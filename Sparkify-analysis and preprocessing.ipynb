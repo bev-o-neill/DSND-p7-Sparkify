{
 "cells": [
  {
   "cell_type": "markdown",
   "metadata": {},
   "source": [
    "# Sparkify-analysis and preprocessing\n",
    "This notebooks contains the preliminary cleaning, data analyis and feature engineering for the Sparkify customer churn model development.\n",
    "\n",
    "This precedes Sparkify-model build.ipynb"
   ]
  },
  {
   "cell_type": "code",
   "execution_count": 1,
   "metadata": {},
   "outputs": [],
   "source": [
    "#Import libraries\n",
    "from pyspark.sql import SparkSession\n",
    "from pyspark.sql.functions import avg, col, asc, desc, lit, min, max, udf, isnull,when, row_number, floor,ceil, sum ,count, countDistinct\n",
    "from pyspark.sql.types import IntegerType,DoubleType\n",
    "from pyspark.sql import Window\n",
    "\n",
    "from pyspark.ml import Pipeline\n",
    "from pyspark.ml.classification import LogisticRegression, NaiveBayes, GBTClassifier, RandomForestClassifier, LinearSVC\n",
    "from pyspark.ml.evaluation import MulticlassClassificationEvaluator, BinaryClassificationEvaluator\n",
    "from pyspark.ml.feature import MinMaxScaler, VectorAssembler\n",
    "from pyspark.ml.tuning import CrossValidator, ParamGridBuilder, CrossValidatorModel\n",
    "\n",
    "import datetime\n",
    "import matplotlib\n",
    "import matplotlib.pyplot as plt\n",
    "import pandas as pd\n",
    "import seaborn as sns\n",
    "import os\n",
    "from time import time\n",
    "\n",
    "import gc"
   ]
  },
  {
   "cell_type": "code",
   "execution_count": 2,
   "metadata": {},
   "outputs": [
    {
     "name": "stdout",
     "output_type": "stream",
     "text": [
      "3.6.3\n",
      "0.23.3\n",
      "2.1.0\n"
     ]
    }
   ],
   "source": [
    "#Check versions of packages\n",
    "from platform import python_version\n",
    "\n",
    "print(python_version())\n",
    "\n",
    "print(pd.__version__)\n",
    "\n",
    "print(matplotlib.__version__)"
   ]
  },
  {
   "cell_type": "code",
   "execution_count": 3,
   "metadata": {},
   "outputs": [],
   "source": [
    "#Create spark session\n",
    "spark = SparkSession \\\n",
    "    .builder \\\n",
    "    .appName(\"Sparkify\") \\\n",
    "    .getOrCreate()\n"
   ]
  },
  {
   "cell_type": "code",
   "execution_count": 4,
   "metadata": {},
   "outputs": [
    {
     "data": {
      "text/html": [
       "\n",
       "            <div>\n",
       "                <p><b>SparkSession - in-memory</b></p>\n",
       "                \n",
       "        <div>\n",
       "            <p><b>SparkContext</b></p>\n",
       "\n",
       "            <p><a href=\"http://cf57b1c7ed93:4041\">Spark UI</a></p>\n",
       "\n",
       "            <dl>\n",
       "              <dt>Version</dt>\n",
       "                <dd><code>v2.4.3</code></dd>\n",
       "              <dt>Master</dt>\n",
       "                <dd><code>local[*]</code></dd>\n",
       "              <dt>AppName</dt>\n",
       "                <dd><code>Sparkify</code></dd>\n",
       "            </dl>\n",
       "        </div>\n",
       "        \n",
       "            </div>\n",
       "        "
      ],
      "text/plain": [
       "<pyspark.sql.session.SparkSession at 0x7f82f4407f28>"
      ]
     },
     "execution_count": 4,
     "metadata": {},
     "output_type": "execute_result"
    }
   ],
   "source": [
    "spark.sparkContext.getConf().getAll()\n",
    "spark"
   ]
  },
  {
   "cell_type": "markdown",
   "metadata": {},
   "source": [
    "# Load and Clean Dataset\n",
    "In this workspace, the mini-dataset file is `mini_sparkify_event_data.json`. Load and clean the dataset, checking for invalid or missing data - for example, records without userids or sessionids. "
   ]
  },
  {
   "cell_type": "code",
   "execution_count": 5,
   "metadata": {},
   "outputs": [],
   "source": [
    "#Define input filepath to and load json file as dataframe\n",
    "filepath = 'mini_sparkify_event_data.json'\n",
    "dfSparkifyEvent = spark.read.json(filepath)"
   ]
  },
  {
   "cell_type": "code",
   "execution_count": 6,
   "metadata": {},
   "outputs": [
    {
     "name": "stdout",
     "output_type": "stream",
     "text": [
      "root\n",
      " |-- artist: string (nullable = true)\n",
      " |-- auth: string (nullable = true)\n",
      " |-- firstName: string (nullable = true)\n",
      " |-- gender: string (nullable = true)\n",
      " |-- itemInSession: long (nullable = true)\n",
      " |-- lastName: string (nullable = true)\n",
      " |-- length: double (nullable = true)\n",
      " |-- level: string (nullable = true)\n",
      " |-- location: string (nullable = true)\n",
      " |-- method: string (nullable = true)\n",
      " |-- page: string (nullable = true)\n",
      " |-- registration: long (nullable = true)\n",
      " |-- sessionId: long (nullable = true)\n",
      " |-- song: string (nullable = true)\n",
      " |-- status: long (nullable = true)\n",
      " |-- ts: long (nullable = true)\n",
      " |-- userAgent: string (nullable = true)\n",
      " |-- userId: string (nullable = true)\n",
      "\n"
     ]
    }
   ],
   "source": [
    "#Print schema shows the dataframe structure\n",
    "dfSparkifyEvent.printSchema()"
   ]
  },
  {
   "cell_type": "code",
   "execution_count": 7,
   "metadata": {},
   "outputs": [
    {
     "data": {
      "text/plain": [
       "286500"
      ]
     },
     "execution_count": 7,
     "metadata": {},
     "output_type": "execute_result"
    }
   ],
   "source": [
    "#Number of rows in dataframe\n",
    "dfSparkifyEvent.count()"
   ]
  },
  {
   "cell_type": "code",
   "execution_count": 8,
   "metadata": {},
   "outputs": [
    {
     "data": {
      "text/plain": [
       "18"
      ]
     },
     "execution_count": 8,
     "metadata": {},
     "output_type": "execute_result"
    }
   ],
   "source": [
    "#Number of columns in dataframe\n",
    "len(dfSparkifyEvent.columns)"
   ]
  },
  {
   "cell_type": "code",
   "execution_count": 9,
   "metadata": {
    "scrolled": true
   },
   "outputs": [
    {
     "name": "stdout",
     "output_type": "stream",
     "text": [
      "+----------------+---------+---------+------+-------------+--------+---------+-----+--------------------+------+--------+-------------+---------+--------------------+------+-------------+--------------------+------+\n",
      "|          artist|     auth|firstName|gender|itemInSession|lastName|   length|level|            location|method|    page| registration|sessionId|                song|status|           ts|           userAgent|userId|\n",
      "+----------------+---------+---------+------+-------------+--------+---------+-----+--------------------+------+--------+-------------+---------+--------------------+------+-------------+--------------------+------+\n",
      "|  Martha Tilston|Logged In|    Colin|     M|           50| Freeman|277.89016| paid|     Bakersfield, CA|   PUT|NextSong|1538173362000|       29|           Rockpools|   200|1538352117000|Mozilla/5.0 (Wind...|    30|\n",
      "|Five Iron Frenzy|Logged In|    Micah|     M|           79|    Long|236.09424| free|Boston-Cambridge-...|   PUT|NextSong|1538331630000|        8|              Canada|   200|1538352180000|\"Mozilla/5.0 (Win...|     9|\n",
      "|    Adam Lambert|Logged In|    Colin|     M|           51| Freeman| 282.8273| paid|     Bakersfield, CA|   PUT|NextSong|1538173362000|       29|   Time For Miracles|   200|1538352394000|Mozilla/5.0 (Wind...|    30|\n",
      "|          Enigma|Logged In|    Micah|     M|           80|    Long|262.71302| free|Boston-Cambridge-...|   PUT|NextSong|1538331630000|        8|Knocking On Forbi...|   200|1538352416000|\"Mozilla/5.0 (Win...|     9|\n",
      "|       Daft Punk|Logged In|    Colin|     M|           52| Freeman|223.60771| paid|     Bakersfield, CA|   PUT|NextSong|1538173362000|       29|Harder Better Fas...|   200|1538352676000|Mozilla/5.0 (Wind...|    30|\n",
      "+----------------+---------+---------+------+-------------+--------+---------+-----+--------------------+------+--------+-------------+---------+--------------------+------+-------------+--------------------+------+\n",
      "only showing top 5 rows\n",
      "\n"
     ]
    }
   ],
   "source": [
    "#View first five records\n",
    "dfSparkifyEvent.show(5)"
   ]
  },
  {
   "cell_type": "code",
   "execution_count": 10,
   "metadata": {},
   "outputs": [
    {
     "data": {
      "text/plain": [
       "286500"
      ]
     },
     "execution_count": 10,
     "metadata": {},
     "output_type": "execute_result"
    }
   ],
   "source": [
    "#Remove null userIds and sessionIds \n",
    "dfSparkifyEvent = dfSparkifyEvent.dropna(how = \"any\", subset = [\"userId\", \"sessionId\"])\n",
    "dfSparkifyEvent.count()"
   ]
  },
  {
   "cell_type": "code",
   "execution_count": 11,
   "metadata": {},
   "outputs": [
    {
     "data": {
      "text/plain": [
       "278154"
      ]
     },
     "execution_count": 11,
     "metadata": {},
     "output_type": "execute_result"
    }
   ],
   "source": [
    "#Remove empty userIds\n",
    "dfSparkifyEvent = dfSparkifyEvent.filter(dfSparkifyEvent.userId != \"\")\n",
    "dfSparkifyEvent.count()\n"
   ]
  },
  {
   "cell_type": "code",
   "execution_count": 12,
   "metadata": {},
   "outputs": [
    {
     "data": {
      "text/plain": [
       "225"
      ]
     },
     "execution_count": 12,
     "metadata": {},
     "output_type": "execute_result"
    }
   ],
   "source": [
    "#Number of distinct users in the dataframe\n",
    "dfSparkifyEvent.select([\"userID\"]).dropDuplicates().count()\n"
   ]
  },
  {
   "cell_type": "code",
   "execution_count": 13,
   "metadata": {},
   "outputs": [
    {
     "data": {
      "text/html": [
       "<div>\n",
       "<style scoped>\n",
       "    .dataframe tbody tr th:only-of-type {\n",
       "        vertical-align: middle;\n",
       "    }\n",
       "\n",
       "    .dataframe tbody tr th {\n",
       "        vertical-align: top;\n",
       "    }\n",
       "\n",
       "    .dataframe thead th {\n",
       "        text-align: right;\n",
       "    }\n",
       "</style>\n",
       "<table border=\"1\" class=\"dataframe\">\n",
       "  <thead>\n",
       "    <tr style=\"text-align: right;\">\n",
       "      <th></th>\n",
       "      <th>itemInSession</th>\n",
       "      <th>length</th>\n",
       "      <th>registration</th>\n",
       "      <th>sessionId</th>\n",
       "      <th>status</th>\n",
       "      <th>ts</th>\n",
       "    </tr>\n",
       "  </thead>\n",
       "  <tbody>\n",
       "    <tr>\n",
       "      <th>count</th>\n",
       "      <td>278154.000000</td>\n",
       "      <td>228108.000000</td>\n",
       "      <td>2.781540e+05</td>\n",
       "      <td>278154.000000</td>\n",
       "      <td>278154.000000</td>\n",
       "      <td>2.781540e+05</td>\n",
       "    </tr>\n",
       "    <tr>\n",
       "      <th>mean</th>\n",
       "      <td>114.899182</td>\n",
       "      <td>249.117182</td>\n",
       "      <td>1.535359e+12</td>\n",
       "      <td>1042.561624</td>\n",
       "      <td>209.103216</td>\n",
       "      <td>1.540959e+12</td>\n",
       "    </tr>\n",
       "    <tr>\n",
       "      <th>std</th>\n",
       "      <td>129.851729</td>\n",
       "      <td>99.235179</td>\n",
       "      <td>3.291322e+09</td>\n",
       "      <td>726.501036</td>\n",
       "      <td>30.151389</td>\n",
       "      <td>1.506829e+09</td>\n",
       "    </tr>\n",
       "    <tr>\n",
       "      <th>min</th>\n",
       "      <td>0.000000</td>\n",
       "      <td>0.783220</td>\n",
       "      <td>1.521381e+12</td>\n",
       "      <td>1.000000</td>\n",
       "      <td>200.000000</td>\n",
       "      <td>1.538352e+12</td>\n",
       "    </tr>\n",
       "    <tr>\n",
       "      <th>25%</th>\n",
       "      <td>27.000000</td>\n",
       "      <td>199.888530</td>\n",
       "      <td>1.533522e+12</td>\n",
       "      <td>338.000000</td>\n",
       "      <td>200.000000</td>\n",
       "      <td>1.539699e+12</td>\n",
       "    </tr>\n",
       "    <tr>\n",
       "      <th>50%</th>\n",
       "      <td>70.000000</td>\n",
       "      <td>234.500770</td>\n",
       "      <td>1.536664e+12</td>\n",
       "      <td>1017.000000</td>\n",
       "      <td>200.000000</td>\n",
       "      <td>1.540934e+12</td>\n",
       "    </tr>\n",
       "    <tr>\n",
       "      <th>75%</th>\n",
       "      <td>157.000000</td>\n",
       "      <td>277.158730</td>\n",
       "      <td>1.537672e+12</td>\n",
       "      <td>1675.000000</td>\n",
       "      <td>200.000000</td>\n",
       "      <td>1.542268e+12</td>\n",
       "    </tr>\n",
       "    <tr>\n",
       "      <th>max</th>\n",
       "      <td>1321.000000</td>\n",
       "      <td>3024.665670</td>\n",
       "      <td>1.543247e+12</td>\n",
       "      <td>2474.000000</td>\n",
       "      <td>404.000000</td>\n",
       "      <td>1.543799e+12</td>\n",
       "    </tr>\n",
       "  </tbody>\n",
       "</table>\n",
       "</div>"
      ],
      "text/plain": [
       "       itemInSession         length  registration      sessionId  \\\n",
       "count  278154.000000  228108.000000  2.781540e+05  278154.000000   \n",
       "mean      114.899182     249.117182  1.535359e+12    1042.561624   \n",
       "std       129.851729      99.235179  3.291322e+09     726.501036   \n",
       "min         0.000000       0.783220  1.521381e+12       1.000000   \n",
       "25%        27.000000     199.888530  1.533522e+12     338.000000   \n",
       "50%        70.000000     234.500770  1.536664e+12    1017.000000   \n",
       "75%       157.000000     277.158730  1.537672e+12    1675.000000   \n",
       "max      1321.000000    3024.665670  1.543247e+12    2474.000000   \n",
       "\n",
       "              status            ts  \n",
       "count  278154.000000  2.781540e+05  \n",
       "mean      209.103216  1.540959e+12  \n",
       "std        30.151389  1.506829e+09  \n",
       "min       200.000000  1.538352e+12  \n",
       "25%       200.000000  1.539699e+12  \n",
       "50%       200.000000  1.540934e+12  \n",
       "75%       200.000000  1.542268e+12  \n",
       "max       404.000000  1.543799e+12  "
      ]
     },
     "execution_count": 13,
     "metadata": {},
     "output_type": "execute_result"
    }
   ],
   "source": [
    "#Get initial descriptive stats\n",
    "dfSparkifyEvent.toPandas().describe()"
   ]
  },
  {
   "cell_type": "code",
   "execution_count": 14,
   "metadata": {},
   "outputs": [
    {
     "data": {
      "text/plain": [
       "Text(0.5,1,'Null values in columns')"
      ]
     },
     "execution_count": 14,
     "metadata": {},
     "output_type": "execute_result"
    },
    {
     "data": {
      "image/png": "[encoded data removed]",
      "text/plain": [
       "<matplotlib.figure.Figure at 0x7f82db9afa20>"
      ]
     },
     "metadata": {
      "needs_background": "light"
     },
     "output_type": "display_data"
    }
   ],
   "source": [
    "#Check the columns for null values\n",
    "col_null={}\n",
    "for i in dfSparkifyEvent.columns :\n",
    "    col_null[i]=dfSparkifyEvent.where(col(i).isNull()).count()\n",
    "col_null=pd.Series(col_null)\n",
    "ax=col_null.plot(kind='bar')\n",
    "ax.set_xlabel('Columns')\n",
    "ax.set_ylabel('Count')\n",
    "ax.set_title('Null values in columns')"
   ]
  },
  {
   "cell_type": "markdown",
   "metadata": {},
   "source": [
    "* We can conclude from the above chart that the only remaining missing data corresponds to events that are not songs being played, such as logging in, adding songs to playlists etc. "
   ]
  },
  {
   "cell_type": "markdown",
   "metadata": {},
   "source": [
    "# Exploratory Data Analysis\n",
    "When you're working with the full dataset, perform EDA by loading a small subset of the data and doing basic manipulations within Spark. In this workspace, you are already provided a small subset of data you can explore.\n",
    "\n",
    "### Define Churn\n",
    "\n",
    "Once you've done some preliminary analysis, create a column `Churn` to use as the label for your model. I suggest using the `Cancellation Confirmation` events to define your churn, which happen for both paid and free users. As a bonus task, you can also look into the `Downgrade` events.\n",
    "\n",
    "### Explore Data\n",
    "Once you've defined churn, perform some exploratory data analysis to observe the behavior for users who stayed vs users who churned. You can start by exploring aggregates on these two groups of users, observing how much of a specific action they experienced per a certain time unit or number of songs played."
   ]
  },
  {
   "cell_type": "code",
   "execution_count": 15,
   "metadata": {},
   "outputs": [
    {
     "name": "stdout",
     "output_type": "stream",
     "text": [
      "+----------------+---------+---------+------+-------------+--------+---------+-----+--------------------+------+--------+-------------+---------+--------------------+------+-------------+--------------------+------+\n",
      "|          artist|     auth|firstName|gender|itemInSession|lastName|   length|level|            location|method|    page| registration|sessionId|                song|status|           ts|           userAgent|userId|\n",
      "+----------------+---------+---------+------+-------------+--------+---------+-----+--------------------+------+--------+-------------+---------+--------------------+------+-------------+--------------------+------+\n",
      "|  Martha Tilston|Logged In|    Colin|     M|           50| Freeman|277.89016| paid|     Bakersfield, CA|   PUT|NextSong|1538173362000|       29|           Rockpools|   200|1538352117000|Mozilla/5.0 (Wind...|    30|\n",
      "|Five Iron Frenzy|Logged In|    Micah|     M|           79|    Long|236.09424| free|Boston-Cambridge-...|   PUT|NextSong|1538331630000|        8|              Canada|   200|1538352180000|\"Mozilla/5.0 (Win...|     9|\n",
      "|    Adam Lambert|Logged In|    Colin|     M|           51| Freeman| 282.8273| paid|     Bakersfield, CA|   PUT|NextSong|1538173362000|       29|   Time For Miracles|   200|1538352394000|Mozilla/5.0 (Wind...|    30|\n",
      "|          Enigma|Logged In|    Micah|     M|           80|    Long|262.71302| free|Boston-Cambridge-...|   PUT|NextSong|1538331630000|        8|Knocking On Forbi...|   200|1538352416000|\"Mozilla/5.0 (Win...|     9|\n",
      "|       Daft Punk|Logged In|    Colin|     M|           52| Freeman|223.60771| paid|     Bakersfield, CA|   PUT|NextSong|1538173362000|       29|Harder Better Fas...|   200|1538352676000|Mozilla/5.0 (Wind...|    30|\n",
      "+----------------+---------+---------+------+-------------+--------+---------+-----+--------------------+------+--------+-------------+---------+--------------------+------+-------------+--------------------+------+\n",
      "only showing top 5 rows\n",
      "\n"
     ]
    }
   ],
   "source": [
    "dfSparkifyEvent.show(5)"
   ]
  },
  {
   "cell_type": "code",
   "execution_count": 16,
   "metadata": {},
   "outputs": [],
   "source": [
    "#Create a more intuitive timestamp feature\n",
    "get_time = udf(lambda x: datetime.datetime.fromtimestamp(x / 1000.0).strftime(\"%Y-%m-%d %H:%M:%S\"))\n",
    "dfSparkifyEvent = dfSparkifyEvent.withColumn(\"time\", get_time(dfSparkifyEvent.ts))\n",
    "dfSparkifyEvent = dfSparkifyEvent.withColumn(\"registrationTime\", get_time(dfSparkifyEvent.registration))\n",
    "\n",
    "\n",
    "\n"
   ]
  },
  {
   "cell_type": "code",
   "execution_count": 17,
   "metadata": {},
   "outputs": [
    {
     "name": "stdout",
     "output_type": "stream",
     "text": [
      "+--------------------+------+\n",
      "|                page| count|\n",
      "+--------------------+------+\n",
      "|              Cancel|    52|\n",
      "|    Submit Downgrade|    63|\n",
      "|         Thumbs Down|  2546|\n",
      "|                Home| 10082|\n",
      "|           Downgrade|  2055|\n",
      "|         Roll Advert|  3933|\n",
      "|              Logout|  3226|\n",
      "|       Save Settings|   310|\n",
      "|Cancellation Conf...|    52|\n",
      "|               About|   495|\n",
      "|            Settings|  1514|\n",
      "|     Add to Playlist|  6526|\n",
      "|          Add Friend|  4277|\n",
      "|            NextSong|228108|\n",
      "|           Thumbs Up| 12551|\n",
      "|                Help|  1454|\n",
      "|             Upgrade|   499|\n",
      "|               Error|   252|\n",
      "|      Submit Upgrade|   159|\n",
      "+--------------------+------+\n",
      "\n"
     ]
    }
   ],
   "source": [
    "#Show count values for \"page\" in the dataset\n",
    "dfSparkifyEvent.groupBy(\"page\").count().show()"
   ]
  },
  {
   "cell_type": "code",
   "execution_count": 18,
   "metadata": {},
   "outputs": [
    {
     "data": {
      "text/plain": [
       "[Row(artist=None, auth='Cancelled', firstName='Adriel', gender='M', itemInSession=104, lastName='Mendoza', length=None, level='paid', location='Kansas City, MO-KS', method='GET', page='Cancellation Confirmation', registration=1535623466000, sessionId=514, song=None, status=200, ts=1538943990000, userAgent='\"Mozilla/5.0 (Macintosh; Intel Mac OS X 10_9_4) AppleWebKit/537.77.4 (KHTML, like Gecko) Version/7.0.5 Safari/537.77.4\"', userId='18', time='2018-10-07 20:26:30', registrationTime='2018-08-30 10:04:26'),\n",
       " Row(artist=None, auth='Cancelled', firstName='Diego', gender='M', itemInSession=56, lastName='Mckee', length=None, level='paid', location='Phoenix-Mesa-Scottsdale, AZ', method='GET', page='Cancellation Confirmation', registration=1537167593000, sessionId=540, song=None, status=200, ts=1539033046000, userAgent='\"Mozilla/5.0 (iPhone; CPU iPhone OS 7_1_2 like Mac OS X) AppleWebKit/537.51.2 (KHTML, like Gecko) Version/7.0 Mobile/11D257 Safari/9537.53\"', userId='32', time='2018-10-08 21:10:46', registrationTime='2018-09-17 06:59:53'),\n",
       " Row(artist=None, auth='Cancelled', firstName='Mason', gender='M', itemInSession=10, lastName='Hart', length=None, level='free', location='Corpus Christi, TX', method='GET', page='Cancellation Confirmation', registration=1533157139000, sessionId=174, song=None, status=200, ts=1539318918000, userAgent='\"Mozilla/5.0 (Macintosh; Intel Mac OS X 10_9_4) AppleWebKit/537.36 (KHTML, like Gecko) Chrome/36.0.1985.125 Safari/537.36\"', userId='125', time='2018-10-12 04:35:18', registrationTime='2018-08-01 20:58:59'),\n",
       " Row(artist=None, auth='Cancelled', firstName='Alexander', gender='M', itemInSession=332, lastName='Garcia', length=None, level='paid', location='Indianapolis-Carmel-Anderson, IN', method='GET', page='Cancellation Confirmation', registration=1536817381000, sessionId=508, song=None, status=200, ts=1539375441000, userAgent='Mozilla/5.0 (Windows NT 6.1; WOW64; rv:31.0) Gecko/20100101 Firefox/31.0', userId='105', time='2018-10-12 20:17:21', registrationTime='2018-09-13 05:43:01'),\n",
       " Row(artist=None, auth='Cancelled', firstName='Kayla', gender='F', itemInSession=273, lastName='Johnson', length=None, level='paid', location='Philadelphia-Camden-Wilmington, PA-NJ-DE-MD', method='GET', page='Cancellation Confirmation', registration=1538333829000, sessionId=797, song=None, status=200, ts=1539465584000, userAgent='Mozilla/5.0 (Windows NT 6.1; WOW64; rv:24.0) Gecko/20100101 Firefox/24.0', userId='17', time='2018-10-13 21:19:44', registrationTime='2018-09-30 18:57:09')]"
      ]
     },
     "execution_count": 18,
     "metadata": {},
     "output_type": "execute_result"
    }
   ],
   "source": [
    "#Inspect users who cancelled\n",
    "\n",
    "#Restrict to userIds where they were on the Cancellation Confirmation page\n",
    "dfCancelled=dfSparkifyEvent.filter(dfSparkifyEvent.page==\"Cancellation Confirmation\")\n",
    "dfCancelledUsers=dfCancelled.select(\"userId\").dropDuplicates()\n",
    "dfCancelled.take(5)"
   ]
  },
  {
   "cell_type": "code",
   "execution_count": 19,
   "metadata": {},
   "outputs": [
    {
     "name": "stdout",
     "output_type": "stream",
     "text": [
      "+------+--------------------+-----+--------------------+---------+-------------------+\n",
      "|userId|                page|level|                song|sessionId|               time|\n",
      "+------+--------------------+-----+--------------------+---------+-------------------+\n",
      "|   125|              Cancel| free|                null|      174|2018-10-12 04:35:18|\n",
      "|   125|Cancellation Conf...| free|                null|      174|2018-10-12 04:35:18|\n",
      "|   125|         Roll Advert| free|                null|      174|2018-10-12 04:35:17|\n",
      "|   125|            NextSong| free|                Kota|      174|2018-10-12 04:35:06|\n",
      "|   125|            NextSong| free|     They're Red Hot|      174|2018-10-12 04:32:08|\n",
      "|   125|            NextSong| free|Don't Leave Me Be...|      174|2018-10-12 04:28:35|\n",
      "|   125|            NextSong| free|       Love You Down|      174|2018-10-12 04:22:04|\n",
      "|   125|            NextSong| free|Leader Of Men (Al...|      174|2018-10-12 04:18:34|\n",
      "|   125|            NextSong| free|       I'm On My Way|      174|2018-10-12 04:15:11|\n",
      "|   125|            NextSong| free|Hypnotize(Album V...|      174|2018-10-12 04:11:21|\n",
      "|   125|            NextSong| free|    paranoid android|      174|2018-10-12 04:05:44|\n",
      "+------+--------------------+-----+--------------------+---------+-------------------+\n",
      "\n",
      "+------+--------------------+-----+--------------------+---------+-------------------+\n",
      "|userId|                page|level|                song|sessionId|               time|\n",
      "+------+--------------------+-----+--------------------+---------+-------------------+\n",
      "|    51|Cancellation Conf...| paid|                null|      934|2018-10-17 07:39:32|\n",
      "|    51|              Cancel| paid|                null|      934|2018-10-17 07:37:10|\n",
      "|    51|            Settings| paid|                null|      934|2018-10-17 07:37:09|\n",
      "|    51|            NextSong| paid|     Can't Look Down|      934|2018-10-17 07:35:26|\n",
      "|    51|            NextSong| paid|       Nokian Takana|      934|2018-10-17 07:31:48|\n",
      "|    51|            NextSong| paid|You've Got Everyt...|      934|2018-10-17 07:27:49|\n",
      "|    51|            NextSong| paid|       Forever Young|      934|2018-10-17 07:23:50|\n",
      "|    51|            NextSong| paid|Catch You Baby (S...|      934|2018-10-17 07:20:49|\n",
      "|    51|            NextSong| paid|Body Language / i...|      934|2018-10-17 07:15:49|\n",
      "|    51|            NextSong| paid| I CAN'T GET STARTED|      934|2018-10-17 07:07:32|\n",
      "|    51|            NextSong| paid|Never Had A Dream...|      934|2018-10-17 07:03:31|\n",
      "|    51|            NextSong| paid|          The Middle|      934|2018-10-17 07:00:45|\n",
      "|    51|            NextSong| paid|Ain't Talkin' 'Bo...|      934|2018-10-17 06:56:02|\n",
      "|    51|           Thumbs Up| paid|                null|      934|2018-10-17 06:53:33|\n",
      "|    51|            NextSong| paid|          Market Day|      934|2018-10-17 06:53:32|\n",
      "|    51|            NextSong| paid|            Stand Up|      934|2018-10-17 06:50:00|\n",
      "|    51|            NextSong| paid|       Mexican Radio|      934|2018-10-17 06:45:50|\n",
      "|    51|            NextSong| paid|Preciso Me Encontrar|      934|2018-10-17 06:42:53|\n",
      "|    51|            NextSong| paid|          You Got Me|      934|2018-10-17 06:38:34|\n",
      "|    51|            NextSong| paid|            Recuerdo|      934|2018-10-17 06:33:03|\n",
      "|    51|            NextSong| paid|           Kiss Kiss|      934|2018-10-17 06:28:53|\n",
      "|    51|            NextSong| paid|          Kryptonite|      934|2018-10-17 06:25:00|\n",
      "|    51|            NextSong| paid|   It Comes From You|      934|2018-10-17 06:19:04|\n",
      "|    51|         Thumbs Down| paid|                null|      934|2018-10-17 06:16:04|\n",
      "|    51|            NextSong| paid|Wave of Mutilatio...|      934|2018-10-17 06:16:03|\n",
      "|    51|            NextSong| paid|Fulwood Babylon (...|      934|2018-10-17 06:11:59|\n",
      "|    51|                Home| paid|                null|      934|2018-10-17 06:08:35|\n",
      "|    51|            NextSong| paid|  Fly Further to See|      934|2018-10-17 06:08:34|\n",
      "|    51|            NextSong| paid|           Esisti Tu|      934|2018-10-17 06:05:13|\n",
      "|    51|            NextSong| paid|Behind The Sea [L...|      934|2018-10-17 06:00:54|\n",
      "+------+--------------------+-----+--------------------+---------+-------------------+\n",
      "only showing top 30 rows\n",
      "\n",
      "+------+--------------------+-----+--------------------+---------+-------------------+\n",
      "|userId|                page|level|                song|sessionId|               time|\n",
      "+------+--------------------+-----+--------------------+---------+-------------------+\n",
      "|    54|Cancellation Conf...| paid|                null|     1819|2018-11-12 19:40:08|\n",
      "|    54|              Cancel| paid|                null|     1819|2018-11-12 19:39:37|\n",
      "|    54|            Settings| paid|                null|     1819|2018-11-12 19:39:36|\n",
      "|    54|                Home| paid|                null|     1819|2018-11-12 19:39:27|\n",
      "|    54|            NextSong| paid|Shoulder to shoul...|     1819|2018-11-12 19:38:25|\n",
      "|    54|            NextSong| paid|              Milord|     1819|2018-11-12 19:35:38|\n",
      "|    54|            NextSong| paid|        CompaÃÂ±era|     1819|2018-11-12 19:31:19|\n",
      "|    54|            NextSong| paid|          Miss World|     1819|2018-11-12 19:28:20|\n",
      "|    54|            NextSong| paid|       ReprÃÂ©sente|     1819|2018-11-12 19:24:08|\n",
      "|    54|            NextSong| paid|    Do What You Want|     1819|2018-11-12 19:21:04|\n",
      "|    54|            NextSong| paid|        Karma Police|     1819|2018-11-12 19:16:43|\n",
      "|    54|                Home| paid|                null|     1819|2018-11-12 19:12:49|\n",
      "|    54|            NextSong| paid|   AtrÃÂ©vete te te|     1819|2018-11-12 19:12:44|\n",
      "|    54|            NextSong| paid|Sugar_ We're Goin...|     1819|2018-11-12 19:08:55|\n",
      "|    54|     Add to Playlist| paid|                null|     1819|2018-11-12 19:06:26|\n",
      "|    54|            NextSong| paid|          Back It Up|     1819|2018-11-12 19:05:05|\n",
      "|    54|            NextSong| paid|           Breakeven|     1819|2018-11-12 19:00:45|\n",
      "|    54|            NextSong| paid|West One (Shine O...|     1819|2018-11-12 18:55:07|\n",
      "|    54|            NextSong| paid|           Too Young|     1819|2018-11-12 18:51:49|\n",
      "|    54|            NextSong| paid|Aerodynamic (Daft...|     1819|2018-11-12 18:45:40|\n",
      "|    54|            NextSong| paid|        Diggin' This|     1819|2018-11-12 18:42:39|\n",
      "|    54|            NextSong| paid|Funeral / Rebuild...|     1819|2018-11-12 18:40:38|\n",
      "|    54|     Add to Playlist| paid|                null|     1819|2018-11-12 18:38:42|\n",
      "|    54|            NextSong| paid|         The Want Ad|     1819|2018-11-12 18:37:54|\n",
      "|    54|            NextSong| paid|Daft Punk Is Play...|     1819|2018-11-12 18:34:33|\n",
      "|    54|            NextSong| paid|  She Said_ She Said|     1819|2018-11-12 18:32:04|\n",
      "|    54|            NextSong| paid|       ReprÃÂ©sente|     1819|2018-11-12 18:27:52|\n",
      "|    54|            NextSong| paid|       Dirty Shadows|     1819|2018-11-12 18:21:37|\n",
      "|    54|            NextSong| paid|     Make It Wit Chu|     1819|2018-11-12 18:16:47|\n",
      "|    54|           Thumbs Up| paid|                null|     1819|2018-11-12 18:11:39|\n",
      "+------+--------------------+-----+--------------------+---------+-------------------+\n",
      "only showing top 30 rows\n",
      "\n"
     ]
    }
   ],
   "source": [
    "#Restrict to customer journey columns\n",
    "dfSparkifyEvent.where(dfSparkifyEvent.userId==125)\\\n",
    "            .select([\"userId\", \"page\", \"level\", \"song\", \"sessionId\",\"time\"]).orderBy(desc(\"time\")).show(30)\n",
    "dfSparkifyEvent.where(dfSparkifyEvent.userId==51)\\\n",
    "            .select([\"userId\", \"page\", \"level\", \"song\", \"sessionId\",\"time\"]).orderBy(desc(\"time\")).show(30)\n",
    "dfSparkifyEvent.where(dfSparkifyEvent.userId==54)\\\n",
    "            .select([\"userId\", \"page\", \"level\", \"song\", \"sessionId\",\"time\"]).orderBy(desc(\"time\")).show(30)\n",
    "\n"
   ]
  },
  {
   "cell_type": "code",
   "execution_count": 20,
   "metadata": {},
   "outputs": [
    {
     "data": {
      "text/plain": [
       "52"
      ]
     },
     "execution_count": 20,
     "metadata": {},
     "output_type": "execute_result"
    }
   ],
   "source": [
    "#View userIds where they were on the Cancellation Confirmation page but not the Cancel page\n",
    "dfCancelledBoth = dfSparkifyEvent.where(dfSparkifyEvent.page.isin([\"Cancellation Confirmation\",\"Cancel\"]))\n",
    "dfCancelledBoth.filter(dfCancelledBoth.page==\"Cancel\").select(\"userId\",\"page\")\\\n",
    "                    .dropDuplicates().count()\n"
   ]
  },
  {
   "cell_type": "markdown",
   "metadata": {},
   "source": [
    "We can conclude that the set of users that viewed \"Cancellation Confirmation\" is the same as those users that viewed \"Cancel\"."
   ]
  },
  {
   "cell_type": "code",
   "execution_count": 21,
   "metadata": {},
   "outputs": [
    {
     "data": {
      "text/plain": [
       "[Row(userId='54'),\n",
       " Row(userId='11'),\n",
       " Row(userId='30'),\n",
       " Row(userId='59'),\n",
       " Row(userId='85')]"
      ]
     },
     "execution_count": 21,
     "metadata": {},
     "output_type": "execute_result"
    }
   ],
   "source": [
    "#Restrict to userIds where they were on the Submit Downgrade page\n",
    "dfDowngraded=dfSparkifyEvent.filter(dfSparkifyEvent.page==\"Submit Downgrade\")\n",
    "dfDowngradedUsers=dfDowngraded.select(\"userId\").dropDuplicates()\n",
    "dfDowngradedUsers.take(5)"
   ]
  },
  {
   "cell_type": "code",
   "execution_count": 22,
   "metadata": {},
   "outputs": [
    {
     "name": "stdout",
     "output_type": "stream",
     "text": [
      "+------+---------------+-----+--------------------+---------+-------------------+\n",
      "|userId|           page|level|                song|sessionId|               time|\n",
      "+------+---------------+-----+--------------------+---------+-------------------+\n",
      "|    11|       NextSong| paid|Life As A Father ...|     2092|2018-11-27 09:08:22|\n",
      "|    11|       NextSong| paid|Harmonic Necklace...|     2092|2018-11-27 09:07:09|\n",
      "|    11|       NextSong| paid|        The Pioneers|     2092|2018-11-27 09:03:34|\n",
      "|    11|       NextSong| paid|SegertÃÂ¥get (Da...|     2092|2018-11-27 08:58:29|\n",
      "|    11|      Thumbs Up| paid|                null|     2092|2018-11-27 08:54:10|\n",
      "|    11|       NextSong| paid|     We Were In Love|     2092|2018-11-27 08:54:09|\n",
      "|    11|      Thumbs Up| paid|                null|     2092|2018-11-27 08:50:31|\n",
      "|    11|       NextSong| paid|               Madre|     2092|2018-11-27 08:50:30|\n",
      "|    11|       NextSong| paid|Orange TrÃÂ¤gt N...|     2092|2018-11-27 08:47:06|\n",
      "|    11|       NextSong| paid|        Rusted Wheel|     2092|2018-11-27 08:41:06|\n",
      "|    11|       NextSong| paid| Half Of My Mistakes|     2092|2018-11-27 08:36:57|\n",
      "|    11|       NextSong| paid|Unprotected Sex W...|     2092|2018-11-27 08:32:49|\n",
      "|    11|       NextSong| paid|    Second awakening|     2092|2018-11-27 08:28:02|\n",
      "|    11|       NextSong| paid|             Alright|     2092|2018-11-27 08:24:12|\n",
      "|    11|       NextSong| paid|Smothered (Album ...|     2092|2018-11-27 08:21:05|\n",
      "|    11|       NextSong| paid|  Te enojai por todo|     2092|2018-11-27 08:18:17|\n",
      "|    11|       NextSong| paid|       Fire And Rain|     2092|2018-11-27 08:13:38|\n",
      "|    11|      Thumbs Up| paid|                null|     2092|2018-11-27 08:09:14|\n",
      "|    11|       NextSong| paid|Waters Of Nazaret...|     2092|2018-11-27 08:09:13|\n",
      "|    11|       NextSong| paid|I Let a Song Go O...|     2092|2018-11-27 08:06:36|\n",
      "|    11|       NextSong| paid|          Monkey Man|     2092|2018-11-27 08:02:50|\n",
      "|    11|       NextSong| paid|Follow Me (Explic...|     2092|2018-11-27 07:59:14|\n",
      "|    11|       NextSong| paid|Be Yourself (Albu...|     2092|2018-11-27 07:54:36|\n",
      "|    11|Add to Playlist| paid|                null|     2092|2018-11-27 07:52:08|\n",
      "|    11|       NextSong| paid|SinceritÃÂ© Et J...|     2092|2018-11-27 07:51:21|\n",
      "|    11|       NextSong| paid|            The Gift|     2092|2018-11-27 07:46:19|\n",
      "|    11|       NextSong| paid|      Black Stallion|     2092|2018-11-27 07:42:40|\n",
      "|    11|       NextSong| paid|              No One|     2092|2018-11-27 07:38:27|\n",
      "|    11|       NextSong| paid|(Jesus Hits Like ...|     2092|2018-11-27 07:35:57|\n",
      "|    11|       NextSong| paid|D.A.N.C.E. [Radio...|     2092|2018-11-27 07:32:26|\n",
      "+------+---------------+-----+--------------------+---------+-------------------+\n",
      "only showing top 30 rows\n",
      "\n",
      "+------+---------------+-----+--------------------+---------+-------------------+\n",
      "|userId|           page|level|                song|sessionId|               time|\n",
      "+------+---------------+-----+--------------------+---------+-------------------+\n",
      "|    30|Add to Playlist| paid|                null|     2401|2018-11-30 23:58:40|\n",
      "|    30|       NextSong| paid|           Red Coats|     2401|2018-11-30 23:58:07|\n",
      "|    30|       NextSong| paid|      You're The One|     2401|2018-11-30 23:54:08|\n",
      "|    30|       NextSong| paid|Ironic (Acoustic ...|     2401|2018-11-30 23:50:12|\n",
      "|    30|       NextSong| paid|           Mea Culpa|     2401|2018-11-30 23:45:09|\n",
      "|    30|       NextSong| paid|    Blessed Brambles|     2401|2018-11-30 23:39:09|\n",
      "|    30|       NextSong| paid|Overture/And All ...|     2401|2018-11-30 23:33:05|\n",
      "|    30|       NextSong| paid|Sorrow (1997 Digi...|     2401|2018-11-30 23:30:11|\n",
      "|    30|       NextSong| paid|          Call On Me|     2401|2018-11-30 23:22:39|\n",
      "|    30|       NextSong| paid|         Inner World|     2401|2018-11-30 23:15:50|\n",
      "|    30|       NextSong| paid|        Baby Britain|     2401|2018-11-30 23:12:37|\n",
      "|    30|       NextSong| paid|            Blame It|     2401|2018-11-30 23:07:48|\n",
      "|    30|       NextSong| paid|           In My Bed|     2401|2018-11-30 23:02:33|\n",
      "|    30|       NextSong| paid|     Time To Pretend|     2401|2018-11-30 22:58:09|\n",
      "|    30|      Thumbs Up| paid|                null|     2401|2018-11-30 22:53:54|\n",
      "|    30|       NextSong| paid|            Like You|     2401|2018-11-30 22:53:53|\n",
      "|    30|       NextSong| paid|         Fairy Dance|     2401|2018-11-30 22:48:29|\n",
      "|    30|       NextSong| paid|   Too Hot To Handle|     2401|2018-11-30 22:43:32|\n",
      "|    30|       NextSong| paid|         Firecracker|     2401|2018-11-30 22:40:04|\n",
      "|    30|       NextSong| paid|     Don't Look Back|     2401|2018-11-30 22:34:07|\n",
      "|    30|       NextSong| paid|Say Yeah [Radio E...|     2401|2018-11-30 22:30:24|\n",
      "|    30|       NextSong| paid|Criminal World (2...|     2401|2018-11-30 22:25:22|\n",
      "|    30|       NextSong| paid|             Musique|     2401|2018-11-30 22:18:29|\n",
      "|    30|       NextSong| paid|          Dirty Girl|     2401|2018-11-30 22:15:29|\n",
      "|    30|       NextSong| paid|Vos Dieux Ont Les...|     2401|2018-11-30 22:11:36|\n",
      "|    30|       NextSong| paid|    In The Mausoleum|     2401|2018-11-30 22:08:26|\n",
      "|    30|       NextSong| paid|Hotel Song (Album...|     2401|2018-11-30 22:04:58|\n",
      "|    30|       NextSong| paid|            Novembre|     2401|2018-11-30 21:58:14|\n",
      "|    30|       NextSong| paid|Youth Of The Nati...|     2401|2018-11-30 21:53:56|\n",
      "|    30|       NextSong| paid|                Milk|     2401|2018-11-30 21:49:56|\n",
      "+------+---------------+-----+--------------------+---------+-------------------+\n",
      "only showing top 30 rows\n",
      "\n"
     ]
    }
   ],
   "source": [
    "#Restrict to customer journey columns\n",
    "dfSparkifyEvent.where(dfSparkifyEvent.userId==11)\\\n",
    "            .select([\"userId\", \"page\", \"level\", \"song\", \"sessionId\",\"time\"]).orderBy(desc(\"time\")).show(30)\n",
    "dfSparkifyEvent.where(dfSparkifyEvent.userId==30)\\\n",
    "            .select([\"userId\", \"page\", \"level\", \"song\", \"sessionId\",\"time\"]).orderBy(desc(\"time\")).show(30)\n",
    "\n"
   ]
  },
  {
   "cell_type": "markdown",
   "metadata": {},
   "source": [
    "When customers view the \"Cancellation Confirmation\" page, it's one of their last interactions with Sparkify (along with \"Cancel\"). Therefore this should form the base for the definition of a churned customer. \n",
    "\n",
    "The same is not true of the \"Submit Downgrade\" page, which shows that the customer didn't churn. \n",
    "\n",
    "We will define a churned customer as one that views the \"Cancellation Confirmation\" page."
   ]
  },
  {
   "cell_type": "code",
   "execution_count": 23,
   "metadata": {},
   "outputs": [
    {
     "name": "stdout",
     "output_type": "stream",
     "text": [
      "+------+--------------------+-----+--------------------+---------+----------------+\n",
      "|userId|                page|level|                song|sessionId|cancellationFlag|\n",
      "+------+--------------------+-----+--------------------+---------+----------------+\n",
      "|   125|            NextSong| free|    paranoid android|      174|               0|\n",
      "|   125|            NextSong| free|Hypnotize(Album V...|      174|               0|\n",
      "|   125|            NextSong| free|       I'm On My Way|      174|               0|\n",
      "|   125|            NextSong| free|Leader Of Men (Al...|      174|               0|\n",
      "|   125|            NextSong| free|       Love You Down|      174|               0|\n",
      "|   125|            NextSong| free|Don't Leave Me Be...|      174|               0|\n",
      "|   125|            NextSong| free|     They're Red Hot|      174|               0|\n",
      "|   125|            NextSong| free|                Kota|      174|               0|\n",
      "|   125|         Roll Advert| free|                null|      174|               0|\n",
      "|   125|              Cancel| free|                null|      174|               0|\n",
      "|   125|Cancellation Conf...| free|                null|      174|               1|\n",
      "+------+--------------------+-----+--------------------+---------+----------------+\n",
      "\n"
     ]
    }
   ],
   "source": [
    "#Create Cancellation flag\n",
    "churnFlag = udf(lambda x: 1 if x == \"Cancellation Confirmation\" else 0, IntegerType())\n",
    "churnFlag\n",
    "\n",
    "dfSparkifyEvent = dfSparkifyEvent.withColumn(\"cancellationFlag\", churnFlag(\"page\"))\n",
    "\n",
    "#View a record to see it's worked as expected\n",
    "dfSparkifyEvent.where(dfSparkifyEvent.userId==125)\\\n",
    "                .select([\"userId\", \"page\", \"level\", \"song\", \"sessionId\",\"cancellationFlag\"]).show(100)\n",
    "\n"
   ]
  },
  {
   "cell_type": "code",
   "execution_count": 24,
   "metadata": {},
   "outputs": [
    {
     "name": "stdout",
     "output_type": "stream",
     "text": [
      "+------+--------------------+-----+--------------------+---------+----------------+-----+\n",
      "|userId|                page|level|                song|sessionId|cancellationFlag|churn|\n",
      "+------+--------------------+-----+--------------------+---------+----------------+-----+\n",
      "|   125|            NextSong| free|    paranoid android|      174|               0|    1|\n",
      "|   125|            NextSong| free|Hypnotize(Album V...|      174|               0|    1|\n",
      "|   125|            NextSong| free|       I'm On My Way|      174|               0|    1|\n",
      "|   125|            NextSong| free|Leader Of Men (Al...|      174|               0|    1|\n",
      "|   125|            NextSong| free|       Love You Down|      174|               0|    1|\n",
      "|   125|            NextSong| free|Don't Leave Me Be...|      174|               0|    1|\n",
      "|   125|            NextSong| free|     They're Red Hot|      174|               0|    1|\n",
      "|   125|            NextSong| free|                Kota|      174|               0|    1|\n",
      "|   125|         Roll Advert| free|                null|      174|               0|    1|\n",
      "|   125|              Cancel| free|                null|      174|               0|    1|\n",
      "|   125|Cancellation Conf...| free|                null|      174|               1|    1|\n",
      "+------+--------------------+-----+--------------------+---------+----------------+-----+\n",
      "\n"
     ]
    }
   ],
   "source": [
    "#Create Churn flag\n",
    "windowval1 = Window.partitionBy(\"userId\").orderBy(asc(\"time\"))\\\n",
    "                .rangeBetween(Window.unboundedPreceding, Window.unboundedFollowing)\n",
    "withChurn = dfSparkifyEvent.withColumn(\"churn\", max(\"cancellationFlag\").over(windowval1))\n",
    "\n",
    "#View a record to see it's worked as expected\n",
    "withChurn.where(withChurn.userId==125)\\\n",
    "        .select([\"userId\", \"page\", \"level\", \"song\", \"sessionId\",\"cancellationFlag\",\"churn\"]).show(100)\n",
    "\n"
   ]
  },
  {
   "cell_type": "code",
   "execution_count": 25,
   "metadata": {},
   "outputs": [
    {
     "name": "stdout",
     "output_type": "stream",
     "text": [
      "+------+-----+\n",
      "|userId|churn|\n",
      "+------+-----+\n",
      "|100010|    0|\n",
      "|200002|    0|\n",
      "|   125|    1|\n",
      "|   124|    0|\n",
      "|    51|    1|\n",
      "|     7|    0|\n",
      "|    15|    0|\n",
      "|    54|    1|\n",
      "|   155|    0|\n",
      "|100014|    1|\n",
      "+------+-----+\n",
      "only showing top 10 rows\n",
      "\n"
     ]
    }
   ],
   "source": [
    "#View to see it's worked as expected\n",
    "withChurn.select(\"userId\",\"churn\").dropDuplicates().show(10)\n"
   ]
  },
  {
   "cell_type": "code",
   "execution_count": 26,
   "metadata": {},
   "outputs": [
    {
     "name": "stdout",
     "output_type": "stream",
     "text": [
      "No. of customers that have cancelled:  52\n",
      "No. of customers that have not cancelled:  173\n"
     ]
    }
   ],
   "source": [
    "cancelledCustCount = withChurn.filter(withChurn.churn ==1).select(\"userId\").dropDuplicates().count()\n",
    "notCancelledCustCount = withChurn.filter(withChurn.churn ==0).select(\"userId\").dropDuplicates().count()\n",
    "\n",
    "print(\"No. of customers that have cancelled: \", cancelledCustCount)\n",
    "print(\"No. of customers that have not cancelled: \", notCancelledCustCount)\n"
   ]
  },
  {
   "cell_type": "markdown",
   "metadata": {},
   "source": [
    "#### Note: \n",
    "\n",
    "The dataset is imbalanced. This is important to note as it will affect the metrics we choose to assess model performance."
   ]
  },
  {
   "cell_type": "markdown",
   "metadata": {},
   "source": [
    "#### Gender by churn"
   ]
  },
  {
   "cell_type": "code",
   "execution_count": 27,
   "metadata": {},
   "outputs": [
    {
     "data": {
      "image/png": "[encoded data removed]",
      "text/plain": [
       "<matplotlib.figure.Figure at 0x7f82f4420f98>"
      ]
     },
     "metadata": {
      "needs_background": "light"
     },
     "output_type": "display_data"
    }
   ],
   "source": [
    "churnByGender = withChurn.select([\"userId\",\"gender\",\"churn\"]).dropDuplicates().toPandas()\n",
    "\n",
    "ax = sns.countplot(x = \"gender\", hue = \"churn\", data = churnByGender)\n",
    "\n"
   ]
  },
  {
   "cell_type": "markdown",
   "metadata": {},
   "source": [
    "It looks like men are more likely to churn than women."
   ]
  },
  {
   "cell_type": "markdown",
   "metadata": {},
   "source": [
    "#### Subscription level by churn"
   ]
  },
  {
   "cell_type": "code",
   "execution_count": 28,
   "metadata": {},
   "outputs": [
    {
     "data": {
      "image/png": "[encoded data removed]",
      "text/plain": [
       "<matplotlib.figure.Figure at 0x7f82db9a4f98>"
      ]
     },
     "metadata": {
      "needs_background": "light"
     },
     "output_type": "display_data"
    }
   ],
   "source": [
    "churnByLevel = withChurn.select([\"userId\",\"level\",\"churn\"]).dropDuplicates().toPandas()\n",
    "\n",
    "ax = sns.countplot(x = \"level\", hue = \"churn\", data = churnByLevel)\n",
    "\n",
    "\n"
   ]
  },
  {
   "cell_type": "markdown",
   "metadata": {},
   "source": [
    "Users that pay for their subscription are less likely to churn than those on the free membership."
   ]
  },
  {
   "cell_type": "markdown",
   "metadata": {},
   "source": [
    "#### Average number of page visits by churn"
   ]
  },
  {
   "cell_type": "code",
   "execution_count": 29,
   "metadata": {},
   "outputs": [
    {
     "data": {
      "text/html": [
       "<div>\n",
       "<style scoped>\n",
       "    .dataframe tbody tr th:only-of-type {\n",
       "        vertical-align: middle;\n",
       "    }\n",
       "\n",
       "    .dataframe tbody tr th {\n",
       "        vertical-align: top;\n",
       "    }\n",
       "\n",
       "    .dataframe thead th {\n",
       "        text-align: right;\n",
       "    }\n",
       "</style>\n",
       "<table border=\"1\" class=\"dataframe\">\n",
       "  <thead>\n",
       "    <tr style=\"text-align: right;\">\n",
       "      <th></th>\n",
       "      <th>page</th>\n",
       "      <th>avgPageVisitsChurned</th>\n",
       "      <th>avgPageVisitsActive</th>\n",
       "    </tr>\n",
       "  </thead>\n",
       "  <tbody>\n",
       "    <tr>\n",
       "      <th>0</th>\n",
       "      <td>Cancel</td>\n",
       "      <td>1.000000</td>\n",
       "      <td>0.000000</td>\n",
       "    </tr>\n",
       "    <tr>\n",
       "      <th>1</th>\n",
       "      <td>Submit Downgrade</td>\n",
       "      <td>0.173077</td>\n",
       "      <td>0.312139</td>\n",
       "    </tr>\n",
       "    <tr>\n",
       "      <th>2</th>\n",
       "      <td>Thumbs Down</td>\n",
       "      <td>9.538462</td>\n",
       "      <td>11.849711</td>\n",
       "    </tr>\n",
       "    <tr>\n",
       "      <th>3</th>\n",
       "      <td>Home</td>\n",
       "      <td>32.153846</td>\n",
       "      <td>48.612717</td>\n",
       "    </tr>\n",
       "    <tr>\n",
       "      <th>4</th>\n",
       "      <td>Downgrade</td>\n",
       "      <td>6.480769</td>\n",
       "      <td>9.930636</td>\n",
       "    </tr>\n",
       "    <tr>\n",
       "      <th>5</th>\n",
       "      <td>Roll Advert</td>\n",
       "      <td>18.596154</td>\n",
       "      <td>17.144509</td>\n",
       "    </tr>\n",
       "    <tr>\n",
       "      <th>6</th>\n",
       "      <td>Logout</td>\n",
       "      <td>10.634615</td>\n",
       "      <td>15.450867</td>\n",
       "    </tr>\n",
       "    <tr>\n",
       "      <th>7</th>\n",
       "      <td>Save Settings</td>\n",
       "      <td>1.115385</td>\n",
       "      <td>1.456647</td>\n",
       "    </tr>\n",
       "    <tr>\n",
       "      <th>8</th>\n",
       "      <td>Cancellation Confirmation</td>\n",
       "      <td>1.000000</td>\n",
       "      <td>0.000000</td>\n",
       "    </tr>\n",
       "    <tr>\n",
       "      <th>9</th>\n",
       "      <td>About</td>\n",
       "      <td>1.076923</td>\n",
       "      <td>2.537572</td>\n",
       "    </tr>\n",
       "    <tr>\n",
       "      <th>10</th>\n",
       "      <td>Settings</td>\n",
       "      <td>5.192308</td>\n",
       "      <td>7.190751</td>\n",
       "    </tr>\n",
       "    <tr>\n",
       "      <th>11</th>\n",
       "      <td>Add to Playlist</td>\n",
       "      <td>19.961538</td>\n",
       "      <td>31.722543</td>\n",
       "    </tr>\n",
       "    <tr>\n",
       "      <th>12</th>\n",
       "      <td>Add Friend</td>\n",
       "      <td>12.230769</td>\n",
       "      <td>21.046243</td>\n",
       "    </tr>\n",
       "    <tr>\n",
       "      <th>13</th>\n",
       "      <td>NextSong</td>\n",
       "      <td>699.884615</td>\n",
       "      <td>1108.173410</td>\n",
       "    </tr>\n",
       "    <tr>\n",
       "      <th>14</th>\n",
       "      <td>Thumbs Up</td>\n",
       "      <td>35.750000</td>\n",
       "      <td>61.803468</td>\n",
       "    </tr>\n",
       "    <tr>\n",
       "      <th>15</th>\n",
       "      <td>Help</td>\n",
       "      <td>4.596154</td>\n",
       "      <td>7.023121</td>\n",
       "    </tr>\n",
       "    <tr>\n",
       "      <th>16</th>\n",
       "      <td>Upgrade</td>\n",
       "      <td>2.153846</td>\n",
       "      <td>2.236994</td>\n",
       "    </tr>\n",
       "    <tr>\n",
       "      <th>17</th>\n",
       "      <td>Error</td>\n",
       "      <td>0.615385</td>\n",
       "      <td>1.271676</td>\n",
       "    </tr>\n",
       "    <tr>\n",
       "      <th>18</th>\n",
       "      <td>Submit Upgrade</td>\n",
       "      <td>0.615385</td>\n",
       "      <td>0.734104</td>\n",
       "    </tr>\n",
       "  </tbody>\n",
       "</table>\n",
       "</div>"
      ],
      "text/plain": [
       "                         page  avgPageVisitsChurned  avgPageVisitsActive\n",
       "0                      Cancel              1.000000             0.000000\n",
       "1            Submit Downgrade              0.173077             0.312139\n",
       "2                 Thumbs Down              9.538462            11.849711\n",
       "3                        Home             32.153846            48.612717\n",
       "4                   Downgrade              6.480769             9.930636\n",
       "5                 Roll Advert             18.596154            17.144509\n",
       "6                      Logout             10.634615            15.450867\n",
       "7               Save Settings              1.115385             1.456647\n",
       "8   Cancellation Confirmation              1.000000             0.000000\n",
       "9                       About              1.076923             2.537572\n",
       "10                   Settings              5.192308             7.190751\n",
       "11            Add to Playlist             19.961538            31.722543\n",
       "12                 Add Friend             12.230769            21.046243\n",
       "13                   NextSong            699.884615          1108.173410\n",
       "14                  Thumbs Up             35.750000            61.803468\n",
       "15                       Help              4.596154             7.023121\n",
       "16                    Upgrade              2.153846             2.236994\n",
       "17                      Error              0.615385             1.271676\n",
       "18             Submit Upgrade              0.615385             0.734104"
      ]
     },
     "execution_count": 29,
     "metadata": {},
     "output_type": "execute_result"
    }
   ],
   "source": [
    "cancelledCustPages = withChurn.filter(withChurn.churn ==1).groupby(\"page\").count()\n",
    "cancelledCustPages = cancelledCustPages\\\n",
    "        .withColumn(\"avgPageVisitsChurned\",cancelledCustPages[\"count\"]/cancelledCustCount)\n",
    "\n",
    "notCancelledCustPages = withChurn.filter(withChurn.churn ==0).groupby(\"page\").count()\n",
    "notCancelledCustPages = notCancelledCustPages\\\n",
    "        .withColumn(\"avgPageVisitsActive\",notCancelledCustPages[\"count\"]/notCancelledCustCount)\n",
    "\n",
    "#Concatenate above tables\n",
    "avgPageCountChurn=cancelledCustPages\\\n",
    "        .join(notCancelledCustPages,\"page\",\"outer\").drop(\"count\").toPandas().fillna(0)\n",
    "avgPageCountChurn"
   ]
  },
  {
   "cell_type": "code",
   "execution_count": 30,
   "metadata": {},
   "outputs": [
    {
     "data": {
      "text/plain": [
       "<matplotlib.axes._subplots.AxesSubplot at 0x7f82e5bb1748>"
      ]
     },
     "execution_count": 30,
     "metadata": {},
     "output_type": "execute_result"
    },
    {
     "data": {
      "image/png": "[encoded data removed]",
      "text/plain": [
       "<matplotlib.figure.Figure at 0x7f82e1ba7940>"
      ]
     },
     "metadata": {
      "needs_background": "light"
     },
     "output_type": "display_data"
    }
   ],
   "source": [
    "avgPageCountChurn.plot.bar(\"page\")"
   ]
  },
  {
   "cell_type": "code",
   "execution_count": 31,
   "metadata": {},
   "outputs": [
    {
     "data": {
      "text/html": [
       "<div>\n",
       "<style scoped>\n",
       "    .dataframe tbody tr th:only-of-type {\n",
       "        vertical-align: middle;\n",
       "    }\n",
       "\n",
       "    .dataframe tbody tr th {\n",
       "        vertical-align: top;\n",
       "    }\n",
       "\n",
       "    .dataframe thead th {\n",
       "        text-align: right;\n",
       "    }\n",
       "</style>\n",
       "<table border=\"1\" class=\"dataframe\">\n",
       "  <thead>\n",
       "    <tr style=\"text-align: right;\">\n",
       "      <th></th>\n",
       "      <th>page</th>\n",
       "      <th>avgPageVisitsChurned</th>\n",
       "      <th>avgPageVisitsActive</th>\n",
       "    </tr>\n",
       "  </thead>\n",
       "  <tbody>\n",
       "    <tr>\n",
       "      <th>0</th>\n",
       "      <td>Cancel</td>\n",
       "      <td>1.000000</td>\n",
       "      <td>0.000000</td>\n",
       "    </tr>\n",
       "    <tr>\n",
       "      <th>1</th>\n",
       "      <td>Submit Downgrade</td>\n",
       "      <td>0.173077</td>\n",
       "      <td>0.312139</td>\n",
       "    </tr>\n",
       "    <tr>\n",
       "      <th>2</th>\n",
       "      <td>Thumbs Down</td>\n",
       "      <td>9.538462</td>\n",
       "      <td>11.849711</td>\n",
       "    </tr>\n",
       "    <tr>\n",
       "      <th>3</th>\n",
       "      <td>Home</td>\n",
       "      <td>32.153846</td>\n",
       "      <td>48.612717</td>\n",
       "    </tr>\n",
       "    <tr>\n",
       "      <th>4</th>\n",
       "      <td>Downgrade</td>\n",
       "      <td>6.480769</td>\n",
       "      <td>9.930636</td>\n",
       "    </tr>\n",
       "    <tr>\n",
       "      <th>5</th>\n",
       "      <td>Roll Advert</td>\n",
       "      <td>18.596154</td>\n",
       "      <td>17.144509</td>\n",
       "    </tr>\n",
       "    <tr>\n",
       "      <th>6</th>\n",
       "      <td>Logout</td>\n",
       "      <td>10.634615</td>\n",
       "      <td>15.450867</td>\n",
       "    </tr>\n",
       "    <tr>\n",
       "      <th>7</th>\n",
       "      <td>Save Settings</td>\n",
       "      <td>1.115385</td>\n",
       "      <td>1.456647</td>\n",
       "    </tr>\n",
       "    <tr>\n",
       "      <th>8</th>\n",
       "      <td>Cancellation Confirmation</td>\n",
       "      <td>1.000000</td>\n",
       "      <td>0.000000</td>\n",
       "    </tr>\n",
       "    <tr>\n",
       "      <th>9</th>\n",
       "      <td>About</td>\n",
       "      <td>1.076923</td>\n",
       "      <td>2.537572</td>\n",
       "    </tr>\n",
       "    <tr>\n",
       "      <th>10</th>\n",
       "      <td>Settings</td>\n",
       "      <td>5.192308</td>\n",
       "      <td>7.190751</td>\n",
       "    </tr>\n",
       "    <tr>\n",
       "      <th>11</th>\n",
       "      <td>Add to Playlist</td>\n",
       "      <td>19.961538</td>\n",
       "      <td>31.722543</td>\n",
       "    </tr>\n",
       "    <tr>\n",
       "      <th>12</th>\n",
       "      <td>Add Friend</td>\n",
       "      <td>12.230769</td>\n",
       "      <td>21.046243</td>\n",
       "    </tr>\n",
       "    <tr>\n",
       "      <th>13</th>\n",
       "      <td>Thumbs Up</td>\n",
       "      <td>35.750000</td>\n",
       "      <td>61.803468</td>\n",
       "    </tr>\n",
       "    <tr>\n",
       "      <th>14</th>\n",
       "      <td>Help</td>\n",
       "      <td>4.596154</td>\n",
       "      <td>7.023121</td>\n",
       "    </tr>\n",
       "    <tr>\n",
       "      <th>15</th>\n",
       "      <td>Upgrade</td>\n",
       "      <td>2.153846</td>\n",
       "      <td>2.236994</td>\n",
       "    </tr>\n",
       "    <tr>\n",
       "      <th>16</th>\n",
       "      <td>Error</td>\n",
       "      <td>0.615385</td>\n",
       "      <td>1.271676</td>\n",
       "    </tr>\n",
       "    <tr>\n",
       "      <th>17</th>\n",
       "      <td>Submit Upgrade</td>\n",
       "      <td>0.615385</td>\n",
       "      <td>0.734104</td>\n",
       "    </tr>\n",
       "  </tbody>\n",
       "</table>\n",
       "</div>"
      ],
      "text/plain": [
       "                         page  avgPageVisitsChurned  avgPageVisitsActive\n",
       "0                      Cancel              1.000000             0.000000\n",
       "1            Submit Downgrade              0.173077             0.312139\n",
       "2                 Thumbs Down              9.538462            11.849711\n",
       "3                        Home             32.153846            48.612717\n",
       "4                   Downgrade              6.480769             9.930636\n",
       "5                 Roll Advert             18.596154            17.144509\n",
       "6                      Logout             10.634615            15.450867\n",
       "7               Save Settings              1.115385             1.456647\n",
       "8   Cancellation Confirmation              1.000000             0.000000\n",
       "9                       About              1.076923             2.537572\n",
       "10                   Settings              5.192308             7.190751\n",
       "11            Add to Playlist             19.961538            31.722543\n",
       "12                 Add Friend             12.230769            21.046243\n",
       "13                  Thumbs Up             35.750000            61.803468\n",
       "14                       Help              4.596154             7.023121\n",
       "15                    Upgrade              2.153846             2.236994\n",
       "16                      Error              0.615385             1.271676\n",
       "17             Submit Upgrade              0.615385             0.734104"
      ]
     },
     "execution_count": 31,
     "metadata": {},
     "output_type": "execute_result"
    }
   ],
   "source": [
    "#Dominated by \"Next Song\" so remove this to see what it looks like\n",
    "\n",
    "removeNextSong = withChurn.filter(withChurn[\"page\"] != \"NextSong\")\n",
    "\n",
    "cancelledCustPages = removeNextSong.filter(withChurn.churn ==1).groupby(\"page\").count()\n",
    "cancelledCustPages = cancelledCustPages\\\n",
    "            .withColumn(\"avgPageVisitsChurned\",cancelledCustPages[\"count\"]/cancelledCustCount)\n",
    "\n",
    "notCancelledCustPages = removeNextSong.filter(withChurn.churn ==0).groupby(\"page\").count()\n",
    "notCancelledCustPages = notCancelledCustPages\\\n",
    "            .withColumn(\"avgPageVisitsActive\",notCancelledCustPages[\"count\"]/notCancelledCustCount)\n",
    "\n",
    "#Concatenate above tables\n",
    "avgPageCountChurn=cancelledCustPages.join(notCancelledCustPages,\"page\",\"outer\")\\\n",
    "                        .drop(\"count\").toPandas().fillna(0)\n",
    "avgPageCountChurn\n",
    "\n"
   ]
  },
  {
   "cell_type": "code",
   "execution_count": 32,
   "metadata": {},
   "outputs": [
    {
     "data": {
      "text/plain": [
       "<matplotlib.axes._subplots.AxesSubplot at 0x7f82e5babe80>"
      ]
     },
     "execution_count": 32,
     "metadata": {},
     "output_type": "execute_result"
    },
    {
     "data": {
      "image/png": "[encoded data removed]",
      "text/plain": [
       "<matplotlib.figure.Figure at 0x7f82db666438>"
      ]
     },
     "metadata": {
      "needs_background": "light"
     },
     "output_type": "display_data"
    }
   ],
   "source": [
    "avgPageCountChurn.plot.bar(\"page\")"
   ]
  },
  {
   "cell_type": "markdown",
   "metadata": {},
   "source": [
    "The pages \"Home\", \"Add Friend\", \"Add to Playlist\", \"Next Song\",\"Thumbs Up\" and \"Logout\" all have some differences in proportion between churned and active users. Features based on views of these pages would be good to input into the churn model.\n",
    "\n",
    "\n",
    "#### Average number of songs played each session"
   ]
  },
  {
   "cell_type": "code",
   "execution_count": 33,
   "metadata": {},
   "outputs": [
    {
     "name": "stdout",
     "output_type": "stream",
     "text": [
      "   churn  songCount\n",
      "0      1      36394\n",
      "1      0     191714\n",
      "   churn  sessionCount\n",
      "0      1           519\n",
      "1      0          2552\n"
     ]
    },
    {
     "data": {
      "text/html": [
       "<div>\n",
       "<style scoped>\n",
       "    .dataframe tbody tr th:only-of-type {\n",
       "        vertical-align: middle;\n",
       "    }\n",
       "\n",
       "    .dataframe tbody tr th {\n",
       "        vertical-align: top;\n",
       "    }\n",
       "\n",
       "    .dataframe thead th {\n",
       "        text-align: right;\n",
       "    }\n",
       "</style>\n",
       "<table border=\"1\" class=\"dataframe\">\n",
       "  <thead>\n",
       "    <tr style=\"text-align: right;\">\n",
       "      <th></th>\n",
       "      <th>churn</th>\n",
       "      <th>songCount</th>\n",
       "      <th>sessionCount</th>\n",
       "      <th>songPerSession</th>\n",
       "    </tr>\n",
       "  </thead>\n",
       "  <tbody>\n",
       "    <tr>\n",
       "      <th>0</th>\n",
       "      <td>1</td>\n",
       "      <td>36394</td>\n",
       "      <td>519</td>\n",
       "      <td>70.123314</td>\n",
       "    </tr>\n",
       "    <tr>\n",
       "      <th>1</th>\n",
       "      <td>0</td>\n",
       "      <td>191714</td>\n",
       "      <td>2552</td>\n",
       "      <td>75.123041</td>\n",
       "    </tr>\n",
       "  </tbody>\n",
       "</table>\n",
       "</div>"
      ],
      "text/plain": [
       "   churn  songCount  sessionCount  songPerSession\n",
       "0      1      36394           519       70.123314\n",
       "1      0     191714          2552       75.123041"
      ]
     },
     "execution_count": 33,
     "metadata": {},
     "output_type": "execute_result"
    }
   ],
   "source": [
    "songByChurn=withChurn.filter(withChurn.song.isNotNull()).groupby('churn').count()\\\n",
    "                    .withColumnRenamed(\"count\",\"songCount\").toPandas()\n",
    "\n",
    "print(songByChurn)\n",
    "\n",
    "\n",
    "sessionByChurn=withChurn.filter(withChurn.song.isNotNull())\\\n",
    "                    .select(\"userId\",\"sessionId\",\"churn\").dropDuplicates()\n",
    "sessionByChurn=sessionByChurn.groupby([\"churn\"]).count()\\\n",
    "            .withColumnRenamed(\"count\",\"sessionCount\").toPandas()\n",
    "\n",
    "\n",
    "print(sessionByChurn)\n",
    "\n",
    "#Merge above tables\n",
    "SongsSessionChurn=songByChurn.merge(sessionByChurn,on=\"churn\",how=\"inner\")\n",
    "\n",
    "\n",
    "\n",
    "SongsSessionChurn['songPerSession'] = SongsSessionChurn['songCount']/SongsSessionChurn['sessionCount']\n",
    "SongsSessionChurn\n"
   ]
  },
  {
   "cell_type": "code",
   "execution_count": 34,
   "metadata": {},
   "outputs": [
    {
     "data": {
      "image/png": "[encoded data removed]",
      "text/plain": [
       "<matplotlib.figure.Figure at 0x7f82dc347710>"
      ]
     },
     "metadata": {
      "needs_background": "light"
     },
     "output_type": "display_data"
    }
   ],
   "source": [
    "ax = sns.barplot(x = \"churn\", y = \"songPerSession\", data = SongsSessionChurn)\n"
   ]
  },
  {
   "cell_type": "markdown",
   "metadata": {},
   "source": [
    "We can see that there's a difference between how many songs are being played on average in each session for a user that is still active, compared to a user that's churned. "
   ]
  },
  {
   "cell_type": "markdown",
   "metadata": {},
   "source": [
    "#### Number of days since registration"
   ]
  },
  {
   "cell_type": "code",
   "execution_count": 35,
   "metadata": {},
   "outputs": [],
   "source": [
    "w1 = Window.partitionBy('userId')"
   ]
  },
  {
   "cell_type": "code",
   "execution_count": 36,
   "metadata": {},
   "outputs": [],
   "source": [
    "\n",
    "#Number of days since registration\n",
    "w1 = Window.partitionBy('userId')\n",
    "\n",
    "#Create udf for calculating the difference in weeks of two timestamps\n",
    "diffWeeks = udf(lambda x, y: (x-y)/604800000)\n",
    "\n",
    "#Earliest and latest timestamp variables\n",
    "dfTimeStamps=withChurn.withColumn('tsMin', min('ts').over(w1))\n",
    "dfTimeStamps=withChurn.withColumn('tsMax', max('ts').over(w1))\n",
    "\n",
    "\n",
    "#Weeks user is registered\n",
    "weeksRegistered=dfTimeStamps.select(\"userId\",\"tsMax\",\"registration\",\"churn\").dropDuplicates()\\\n",
    "                    .withColumn(\"weeksRegistered\", diffWeeks(col(\"tsMax\"),col(\"registration\")).cast(\"float\"))\n",
    "\n"
   ]
  },
  {
   "cell_type": "code",
   "execution_count": 37,
   "metadata": {},
   "outputs": [
    {
     "data": {
      "image/png": "[encoded data removed]",
      "text/plain": [
       "<matplotlib.figure.Figure at 0x7f82df6c0c50>"
      ]
     },
     "metadata": {
      "needs_background": "light"
     },
     "output_type": "display_data"
    }
   ],
   "source": [
    "#Histogram of number of weeks registered by churn\n",
    "\n",
    "weeksRegistered = weeksRegistered.select('churn','weeksRegistered').toPandas()\n",
    "\n",
    "# plot results\n",
    "plt.figure(figsize=(10,6))\n",
    "plt.hist(weeksRegistered['weeksRegistered'][weeksRegistered['churn'] == 0], label='Active users')\n",
    "plt.hist(weeksRegistered['weeksRegistered'][weeksRegistered['churn'] == 1], label='Churned users')\n",
    "plt.legend(loc='upper right')\n",
    "plt.xlabel('Number of weeks registered ')\n",
    "plt.ylabel('Count')\n",
    "plt.show()\n"
   ]
  },
  {
   "cell_type": "markdown",
   "metadata": {},
   "source": [
    "We can see that users that are relatively newer on book are more likely to churn."
   ]
  },
  {
   "cell_type": "code",
   "execution_count": null,
   "metadata": {},
   "outputs": [],
   "source": []
  },
  {
   "cell_type": "code",
   "execution_count": null,
   "metadata": {},
   "outputs": [],
   "source": []
  },
  {
   "cell_type": "code",
   "execution_count": null,
   "metadata": {},
   "outputs": [],
   "source": []
  },
  {
   "cell_type": "code",
   "execution_count": null,
   "metadata": {},
   "outputs": [],
   "source": []
  },
  {
   "cell_type": "markdown",
   "metadata": {},
   "source": [
    "# Feature Engineering\n",
    "Once you've familiarized yourself with the data, build out the features you find promising to train your model on. To work with the full dataset, you can follow the following steps.\n",
    "- Write a script to extract the necessary features from the smaller subset of data\n",
    "- Ensure that your script is scalable, using the best practices discussed in Lesson 3\n",
    "- Try your script on the full data set, debugging your script if necessary\n",
    "\n",
    "If you are working in the classroom workspace, you can just extract features based on the small subset of data contained here. Be sure to transfer over this work to the larger dataset when you work on your Spark cluster."
   ]
  },
  {
   "cell_type": "markdown",
   "metadata": {},
   "source": [
    "Having explored some of the trends of the dataset, we've got an idea of good features for a model predicting customer churn. \n",
    "\n",
    "The following customer level features will be defined:\n",
    "* Number of days/weeks/fortnights since registration and latest activity\n",
    "* Subscription level of the customer at their latest activity\n",
    "* Total number of sessions\n",
    "* Total number of interactions made\n",
    "* Total length of time the customer has spent on the website\n",
    "* Average number of interactions per session\n",
    "* Average session length\n",
    "* Average number of sessions per week\n",
    "* Total number of songs played\n",
    "* Average number of songs played per session\n",
    "* Average number of songs played per week\n",
    "\n",
    "* Average per session/average per week/total number \"Home\" page has been accessed\n",
    "* Average per session/average per week/total number \"Add Friend\" page has been accessed\n",
    "* Average per session/average per week/total number \"Add to Playlist\" page has been accessed\n",
    "* Average per session/average per week/total number \"Next Song\" page has been accessed\n",
    "* Average per session/average per week/total number \"Thumbs Up\" page has been accessed\n",
    "* Average per session/average per week/total number \"Logout\" page has been accessed\n",
    "* Total number of days/weeks/fortnights active\n",
    "* Proportion of active days/weeks\n",
    "* Total number of sessions in the first week before final activity\n",
    "* Total number of interaction in the first week before final activity\n",
    "* Total length of time on site in the first week before final activity\n",
    "* Average number of interaction per session in the first week before final activity\n",
    "* Average length per session in the first week before final activity\n",
    "* Total number of sessions in the second week before final activity\n",
    "* Total number of interaction in the second week before final activity\n",
    "* Total length of time on site in the second week before final activity\n",
    "* Average number of interaction in the second week before final activity\n",
    "* Average length per session in the second week before final activity\n",
    "* Total number of sessions in the third week before final activity\n",
    "* Total number of interaction in the third week before final activity\n",
    "* Total length of time on site in the third week before final activity\n",
    "* Average number of interaction per session in the third week before final activity\n",
    "* Average length per session up in the third week before final activity\n",
    "* Total number of sessions in the fourth week before final activity\n",
    "* Total number of interaction in the fourth week before final activity\n",
    "* Total length of time on site in the fourth week before final activity\n",
    "* Average number of interaction per session in the fourth week before final activity\n",
    "* Average length per session in the fourth week before final activity\n",
    "* Total number of days active in the first fortnight before final activity\n",
    "* Total number of weeks active in the first fortnight before final activity\n",
    "* Total number of fortnights active in the first fortnight before final activity\n",
    "* Proportion of active days/weeks in the first fortnight before final activity \n",
    "\n",
    "* Total number of days active in the second fortnight before final activity\n",
    "* Total number of weeks active in the second fortnight before final activity\n",
    "* Total number of fortnights active in the second fortnight before final activity\n",
    "* Proportion of active days/weeks in the second fortnight before final activity \n",
    "\n",
    "\n",
    "\n",
    "\n",
    "\n",
    "\n",
    "\n",
    "\n",
    "\n",
    "\n",
    "\n",
    "\n",
    "\n",
    "\n"
   ]
  },
  {
   "cell_type": "code",
   "execution_count": 38,
   "metadata": {},
   "outputs": [],
   "source": [
    "# create partitions\n",
    "w1 = Window.partitionBy('userId')\n",
    "w2 = Window.partitionBy('userId', 'sessionId')\n",
    "w3 = Window.partitionBy('userId', 'daysToLatest')\n",
    "w4 = Window.partitionBy('userId', 'weeksToLatest')\n",
    "w5 = Window.partitionBy('userId', 'fortnightsToLatest')\n",
    "w6 = Window.partitionBy('userId', 'sessionId','weeksToLatest')\n",
    "\n",
    "# create udfs\n",
    "diffDays = udf(lambda x, y: (x-y)/86400000)\n",
    "diffWeeks = udf(lambda x, y: (x-y)/604800000)\n",
    "diffFortnights = udf(lambda x, y: (x-y)/(604800000*2))\n"
   ]
  },
  {
   "cell_type": "code",
   "execution_count": 39,
   "metadata": {},
   "outputs": [],
   "source": [
    "dfBase=withChurn\n",
    "\n",
    "#Earliest and latest timestamp variables\n",
    "dfBase=dfBase.withColumn('tsMin', min('ts').over(w1))\n",
    "dfBase=dfBase.withColumn('tsMax', max('ts').over(w1))\n",
    "\n",
    "#Number of days/weeks from earliest interaction to the latest interaction\n",
    "dfBase=dfBase.withColumn(\"daysMinToMax\", diffDays(col(\"tsMax\"),col(\"tsMin\")))\n",
    "dfBase=dfBase.withColumn(\"weeksMinToMax\", diffWeeks(col(\"tsMax\"),col(\"tsMin\")))\n",
    "dfBase=dfBase.withColumn(\"fortnightsMinToMax\", diffFortnights(col(\"tsMax\"),col(\"tsMin\")))\n",
    "\n",
    "\n",
    "#Days/Weeks user is registered\n",
    "dfBase=dfBase.withColumn(\"daysRegistered\", diffDays(col(\"tsMax\"),col(\"registration\")))\n",
    "dfBase=dfBase.withColumn(\"weeksRegistered\", diffWeeks(col(\"tsMax\"),col(\"registration\")))\n",
    "#dfBase=dfBase.withColumn(\"fortnightsRegistered\", diffFortnights(col(\"tsLatest\"),col(\"registration\")))\n",
    "\n",
    "#Number of days/weeks from event to the latest interaction\n",
    "dfBase=dfBase.withColumn(\"daysToLatest\", floor(diffDays(col(\"tsMax\"),col(\"ts\"))))\n",
    "dfBase=dfBase.withColumn(\"weeksToLatest\", floor(diffWeeks(col(\"tsMax\"),col(\"ts\"))))\n",
    "dfBase=dfBase.withColumn(\"fortnightsToLatest\", floor(diffFortnights(col(\"tsMax\"),col(\"ts\"))))\n"
   ]
  },
  {
   "cell_type": "code",
   "execution_count": 40,
   "metadata": {},
   "outputs": [],
   "source": [
    "#Start building the final dataset of features for modelling\n",
    "dfFinal = dfBase.select(\"userId\",\"gender\",\"churn\",'tsMin','tsMax',\\\n",
    "             'daysMinToMax','weeksMinToMax','fortnightsMinToMax',\\\n",
    "                'daysRegistered','weeksRegistered')\\\n",
    "            .dropDuplicates()\n"
   ]
  },
  {
   "cell_type": "code",
   "execution_count": 41,
   "metadata": {},
   "outputs": [
    {
     "data": {
      "text/plain": [
       "[Row(userId='100010', gender='F', churn=0, tsMin=1539003534000, tsMax=1542823952000, daysMinToMax='44.21780092592593', weeksMinToMax='6.316828703703703', fortnightsMinToMax='3.1584143518518517', daysRegistered='55.64365740740741', weeksRegistered='7.949093915343916', latestLevel='free')]"
      ]
     },
     "execution_count": 41,
     "metadata": {},
     "output_type": "execute_result"
    }
   ],
   "source": [
    "#Subscription level at latest interaction\n",
    "dfLevel=dfBase.select(\"userId\",\"level\",\"ts\",\"tsMax\")\\\n",
    "        .where(col(\"ts\")==col(\"tsMax\"))\\\n",
    "        .withColumnRenamed(\"level\",\"latestLevel\")\\\n",
    "        .withColumnRenamed(\"userId\",\"userId1\")\\\n",
    "        .drop(\"ts\",\"tsMax\").dropDuplicates()\n",
    "\n",
    "#Join to final dataset\n",
    "dfFinal=dfFinal.join(dfLevel, dfFinal.userId==dfLevel.userId1, how=\"left\")\\\n",
    "            .select(dfFinal[\"*\"],dfLevel[\"latestLevel\"])\n",
    "\n",
    "\n",
    "dfFinal.take(1)\n"
   ]
  },
  {
   "cell_type": "code",
   "execution_count": 42,
   "metadata": {},
   "outputs": [
    {
     "data": {
      "text/plain": [
       "[Row(userId='100010', gender='F', churn=0, tsMin=1539003534000, tsMax=1542823952000, daysMinToMax='44.21780092592593', weeksMinToMax='6.316828703703703', fortnightsMinToMax='3.1584143518518517', daysRegistered='55.64365740740741', weeksRegistered='7.949093915343916', latestLevel='free', totalSession=7, totalInteraction=381, totalLength=66940.89735, avgIntPerSession=54.42857142857143, avgSessionLength=9562.985335714286, avgSessionsPerWeek=10597.231694877368)]"
      ]
     },
     "execution_count": 42,
     "metadata": {},
     "output_type": "execute_result"
    }
   ],
   "source": [
    "#Total number of sessions per user\n",
    "#Total number interactions per user\n",
    "#Total length of activity\n",
    "\n",
    "dfSession = dfBase.select(\"userId\", \"sessionId\", \\\n",
    "                          sum(\"length\").over(w2).alias(\"lengthSessions\"),\\\n",
    "                          count(\"userId\").over(w2).alias(\"eventsSessions\"))\\\n",
    "                    .dropDuplicates()\n",
    "\n",
    "dfSession = dfSession.withColumn(\"totalSession\", count(\"sessionId\").over(w1))\\\n",
    "                     .withColumn(\"totalInteraction\", sum(\"eventsSessions\").over(w1))\\\n",
    "                     .withColumn(\"totalLength\", sum(\"lengthSessions\").over(w1))\\\n",
    "                     .withColumnRenamed(\"userId\",\"userId2\")\\\n",
    "                     .drop(\"sessionId\",\"eventsSessions\",\"lengthSessions\").dropDuplicates()\n",
    "\n",
    "\n",
    "#Join to final dataset and create the following features\n",
    "#Avg interactions per session\n",
    "#Avg length of session \n",
    "#Avg sessions per week\n",
    "#Avg length of activity each week\n",
    "dfFinal = dfFinal.join(dfSession, dfFinal.userId==dfSession.userId2, how=\"left\")\\\n",
    "            .select(dfFinal[\"*\"],\\\n",
    "             dfSession[\"totalSession\"],dfSession[\"totalInteraction\"],dfSession[\"totalLength\"])\\\n",
    "\n",
    "dfFinal = dfFinal.withColumn(\"avgIntPerSession\",dfFinal[\"totalInteraction\"]/dfFinal[\"totalSession\"])\\\n",
    "            .withColumn(\"avgSessionLength\",dfFinal[\"totalLength\"]/dfFinal[\"totalSession\"])\\\n",
    "            .withColumn(\"avgSessionsPerWeek\",dfFinal[\"totalSession\"]/dfFinal[\"weeksMinToMax\"])\\\n",
    "            .withColumn(\"avgSessionsPerWeek\",dfFinal[\"totalLength\"]/dfFinal[\"weeksMinToMax\"])\n",
    "\n",
    "dfFinal.take(1)\n",
    "\n"
   ]
  },
  {
   "cell_type": "code",
   "execution_count": 43,
   "metadata": {},
   "outputs": [
    {
     "name": "stdout",
     "output_type": "stream",
     "text": [
      "+------+------+-----+-------------+-------------+-----------------+-----------------+------------------+-----------------+-----------------+-----------+------------+----------------+-----------+-----------------+-----------------+------------------+---------+------------------+-----------------+\n",
      "|userId|gender|churn|        tsMin|        tsMax|     daysMinToMax|    weeksMinToMax|fortnightsMinToMax|   daysRegistered|  weeksRegistered|latestLevel|totalSession|totalInteraction|totalLength| avgIntPerSession| avgSessionLength|avgSessionsPerWeek|totalSong| avgSongPerSession|   avgSongPerWeek|\n",
      "+------+------+-----+-------------+-------------+-----------------+-----------------+------------------+-----------------+-----------------+-----------+------------+----------------+-----------+-----------------+-----------------+------------------+---------+------------------+-----------------+\n",
      "|100010|     F|    0|1539003534000|1542823952000|44.21780092592593|6.316828703703703|3.1584143518518517|55.64365740740741|7.949093915343916|       free|           7|             381|66940.89735|54.42857142857143|9562.985335714286|10597.231694877368|      275|39.285714285714285|43.53450329257165|\n",
      "+------+------+-----+-------------+-------------+-----------------+-----------------+------------------+-----------------+-----------------+-----------+------------+----------------+-----------+-----------------+-----------------+------------------+---------+------------------+-----------------+\n",
      "only showing top 1 row\n",
      "\n"
     ]
    }
   ],
   "source": [
    "#Total songs played \n",
    "dfSong = dfBase.where(dfBase.song.isNotNull())\\\n",
    "                .select(\"userId\", \"sessionId\", count(\"userId\").over(w2).alias(\"songsSessions\"))\\\n",
    "                .dropDuplicates()\n",
    "\n",
    "dfSong = dfSong.withColumn(\"totalSession\", count(\"sessionId\").over(w1))\\\n",
    "                     .withColumn(\"totalSong\", sum(\"songsSessions\").over(w1))\\\n",
    "                     .withColumnRenamed(\"userId\",\"userId3\")\\\n",
    "                     .drop(\"sessionId\",\"songsSessions\").dropDuplicates()\n",
    "\n",
    "#Join to final dataset and create the following features\n",
    "#Avg number of songs played per session \n",
    "#Avg number of songs played per week\n",
    "dfFinal=dfFinal.join(dfSong, dfFinal.userId==dfSong.userId3, how=\"left\")\\\n",
    "               .select(dfFinal[\"*\"], dfSong[\"totalSong\"])\\\n",
    "               .na.fill(0)\n",
    "\n",
    "dfFinal = dfFinal.withColumn(\"avgSongPerSession\",dfFinal[\"totalSong\"]/dfFinal[\"totalSession\"])\\\n",
    "            .withColumn(\"avgSongPerWeek\",dfFinal[\"totalSong\"]/dfFinal[\"weeksMinToMax\"])\n",
    "\n",
    "dfFinal.show(1)\n"
   ]
  },
  {
   "cell_type": "code",
   "execution_count": 44,
   "metadata": {},
   "outputs": [
    {
     "name": "stdout",
     "output_type": "stream",
     "text": [
      "+------+------+-----+-------------+-------------+-----------------+-----------------+------------------+-----------------+-----------------+-----------+------------+----------------+-----------+-----------------+-----------------+------------------+---------+------------------+-----------------+---------+------------------+-----------------+\n",
      "|userId|gender|churn|        tsMin|        tsMax|     daysMinToMax|    weeksMinToMax|fortnightsMinToMax|   daysRegistered|  weeksRegistered|latestLevel|totalSession|totalInteraction|totalLength| avgIntPerSession| avgSessionLength|avgSessionsPerWeek|totalSong| avgSongPerSession|   avgSongPerWeek|totalHome| avgHomePerSession|   avgHomePerWeek|\n",
      "+------+------+-----+-------------+-------------+-----------------+-----------------+------------------+-----------------+-----------------+-----------+------------+----------------+-----------+-----------------+-----------------+------------------+---------+------------------+-----------------+---------+------------------+-----------------+\n",
      "|100010|     F|    0|1539003534000|1542823952000|44.21780092592593|6.316828703703703|3.1584143518518517|55.64365740740741|7.949093915343916|       free|           7|             381|66940.89735|54.42857142857143|9562.985335714286|10597.231694877368|      275|39.285714285714285|43.53450329257165|       11|1.5714285714285714|1.741380131702866|\n",
      "+------+------+-----+-------------+-------------+-----------------+-----------------+------------------+-----------------+-----------------+-----------+------------+----------------+-----------+-----------------+-----------------+------------------+---------+------------------+-----------------+---------+------------------+-----------------+\n",
      "only showing top 1 row\n",
      "\n"
     ]
    }
   ],
   "source": [
    "#Total times \"Home\" is visited  \n",
    "dfHome = dfBase.where(dfBase.page == \"Home\")\\\n",
    "                .select(\"userId\", count(\"userId\").over(w1).alias(\"totalHome\"))\\\n",
    "                .dropDuplicates()\\\n",
    "                .withColumnRenamed(\"userId\",\"userId4\")\n",
    "\n",
    "#Join to final dataset and create the following features\n",
    "#Avg number of \"Home\" visits played per session \n",
    "#Avg number of \"Home\" visits played per week\n",
    "dfFinal=dfFinal.join(dfHome, dfFinal.userId==dfHome.userId4, how=\"left\")\\\n",
    "            .select(dfFinal[\"*\"],\\\n",
    "             dfHome[\"totalHome\"]).na.fill(0)\n",
    "\n",
    "dfFinal = dfFinal.withColumn(\"avgHomePerSession\",dfFinal[\"totalHome\"]/dfFinal[\"totalSession\"])\\\n",
    "            .withColumn(\"avgHomePerWeek\",dfFinal[\"totalHome\"]/dfFinal[\"weeksMinToMax\"])\n",
    "            \n",
    "\n",
    "dfFinal.show(1)"
   ]
  },
  {
   "cell_type": "code",
   "execution_count": 45,
   "metadata": {},
   "outputs": [
    {
     "name": "stdout",
     "output_type": "stream",
     "text": [
      "+------+------+-----+-------------+-------------+-----------------+-----------------+------------------+-----------------+-----------------+-----------+------------+----------------+-----------+-----------------+-----------------+------------------+---------+------------------+-----------------+---------+------------------+-----------------+--------------+----------------------+-------------------+\n",
      "|userId|gender|churn|        tsMin|        tsMax|     daysMinToMax|    weeksMinToMax|fortnightsMinToMax|   daysRegistered|  weeksRegistered|latestLevel|totalSession|totalInteraction|totalLength| avgIntPerSession| avgSessionLength|avgSessionsPerWeek|totalSong| avgSongPerSession|   avgSongPerWeek|totalHome| avgHomePerSession|   avgHomePerWeek|totalAddFriend|avgAddFriendPerSession|avgAddFriendPerWeek|\n",
      "+------+------+-----+-------------+-------------+-----------------+-----------------+------------------+-----------------+-----------------+-----------+------------+----------------+-----------+-----------------+-----------------+------------------+---------+------------------+-----------------+---------+------------------+-----------------+--------------+----------------------+-------------------+\n",
      "|100010|     F|    0|1539003534000|1542823952000|44.21780092592593|6.316828703703703|3.1584143518518517|55.64365740740741|7.949093915343916|       free|           7|             381|66940.89735|54.42857142857143|9562.985335714286|10597.231694877368|      275|39.285714285714285|43.53450329257165|       11|1.5714285714285714|1.741380131702866|             4|    0.5714285714285714| 0.6332291388010423|\n",
      "+------+------+-----+-------------+-------------+-----------------+-----------------+------------------+-----------------+-----------------+-----------+------------+----------------+-----------+-----------------+-----------------+------------------+---------+------------------+-----------------+---------+------------------+-----------------+--------------+----------------------+-------------------+\n",
      "only showing top 1 row\n",
      "\n"
     ]
    }
   ],
   "source": [
    "#Total times \"Add Friend\" is visited  \n",
    "dfAddFriend = dfBase.where(dfBase.page == \"Add Friend\")\\\n",
    "                .select(\"userId\", count(\"userId\").over(w1).alias(\"totalAddFriend\"))\\\n",
    "                .dropDuplicates()\\\n",
    "                .withColumnRenamed(\"userId\",\"userId5\")\n",
    "\n",
    "#Join to final dataset and create the following features\n",
    "#Avg number of \"Add Friend\" visits played per session \n",
    "#Avg number of \"Add Friend\" visits played per week\n",
    "dfFinal=dfFinal.join(dfAddFriend, dfFinal.userId==dfAddFriend.userId5, how=\"left\")\\\n",
    "            .select(dfFinal[\"*\"],\\\n",
    "             dfAddFriend[\"totalAddFriend\"]).na.fill(0)\n",
    "\n",
    "dfFinal = dfFinal.withColumn(\"avgAddFriendPerSession\",dfFinal[\"totalAddFriend\"]/dfFinal[\"totalSession\"])\\\n",
    "            .withColumn(\"avgAddFriendPerWeek\",dfFinal[\"totalAddFriend\"]/dfFinal[\"weeksMinToMax\"])\n",
    "\n",
    "dfFinal.show(1)\n",
    "\n"
   ]
  },
  {
   "cell_type": "code",
   "execution_count": 46,
   "metadata": {},
   "outputs": [
    {
     "name": "stdout",
     "output_type": "stream",
     "text": [
      "+------+------+-----+-------------+-------------+-----------------+-----------------+------------------+-----------------+-----------------+-----------+------------+----------------+-----------+-----------------+-----------------+------------------+---------+------------------+-----------------+---------+------------------+-----------------+--------------+----------------------+-------------------+------------------+--------------------------+-----------------------+\n",
      "|userId|gender|churn|        tsMin|        tsMax|     daysMinToMax|    weeksMinToMax|fortnightsMinToMax|   daysRegistered|  weeksRegistered|latestLevel|totalSession|totalInteraction|totalLength| avgIntPerSession| avgSessionLength|avgSessionsPerWeek|totalSong| avgSongPerSession|   avgSongPerWeek|totalHome| avgHomePerSession|   avgHomePerWeek|totalAddFriend|avgAddFriendPerSession|avgAddFriendPerWeek|totalAddToPlaylist|avgAddToPlaylistPerSession|avgAddToPlaylistPerWeek|\n",
      "+------+------+-----+-------------+-------------+-----------------+-----------------+------------------+-----------------+-----------------+-----------+------------+----------------+-----------+-----------------+-----------------+------------------+---------+------------------+-----------------+---------+------------------+-----------------+--------------+----------------------+-------------------+------------------+--------------------------+-----------------------+\n",
      "|100010|     F|    0|1539003534000|1542823952000|44.21780092592593|6.316828703703703|3.1584143518518517|55.64365740740741|7.949093915343916|       free|           7|             381|66940.89735|54.42857142857143|9562.985335714286|10597.231694877368|      275|39.285714285714285|43.53450329257165|       11|1.5714285714285714|1.741380131702866|             4|    0.5714285714285714| 0.6332291388010423|                 7|                       1.0|     1.1081509929018238|\n",
      "+------+------+-----+-------------+-------------+-----------------+-----------------+------------------+-----------------+-----------------+-----------+------------+----------------+-----------+-----------------+-----------------+------------------+---------+------------------+-----------------+---------+------------------+-----------------+--------------+----------------------+-------------------+------------------+--------------------------+-----------------------+\n",
      "only showing top 1 row\n",
      "\n"
     ]
    }
   ],
   "source": [
    "#Total times \"Add to Playlist\" is visited  \n",
    "dfAddToPlaylist = dfBase.where(dfBase.page == \"Add to Playlist\")\\\n",
    "                .select(\"userId\", count(\"userId\").over(w1).alias(\"totalAddToPlaylist\"))\\\n",
    "                .dropDuplicates()\\\n",
    "                .withColumnRenamed(\"userId\",\"userId6\")\n",
    "\n",
    "#Join to final dataset and create the following features\n",
    "#Avg number of \"Add to Playlist\" visits played per session \n",
    "#Avg number of \"Add to Playlist\" visits played per week\n",
    "\n",
    "dfFinal=dfFinal.join(dfAddToPlaylist, dfFinal.userId==dfAddToPlaylist.userId6, how=\"left\")\\\n",
    "            .select(dfFinal[\"*\"],\\\n",
    "             dfAddToPlaylist[\"totalAddToPlaylist\"]).na.fill(0)\n",
    "\n",
    "dfFinal = dfFinal.withColumn(\"avgAddToPlaylistPerSession\",dfFinal[\"totalAddToPlaylist\"]/dfFinal[\"totalSession\"])\\\n",
    "            .withColumn(\"avgAddToPlaylistPerWeek\",dfFinal[\"totalAddToPlaylist\"]/dfFinal[\"weeksMinToMax\"])\n",
    "\n",
    "dfFinal.show(1)\n",
    "\n",
    "\n"
   ]
  },
  {
   "cell_type": "code",
   "execution_count": 47,
   "metadata": {},
   "outputs": [
    {
     "name": "stdout",
     "output_type": "stream",
     "text": [
      "+------+------+-----+-------------+-------------+-----------------+-----------------+------------------+-----------------+-----------------+-----------+------------+----------------+-----------+-----------------+-----------------+------------------+---------+------------------+-----------------+---------+------------------+-----------------+--------------+----------------------+-------------------+------------------+--------------------------+-----------------------+-------------+---------------------+------------------+\n",
      "|userId|gender|churn|        tsMin|        tsMax|     daysMinToMax|    weeksMinToMax|fortnightsMinToMax|   daysRegistered|  weeksRegistered|latestLevel|totalSession|totalInteraction|totalLength| avgIntPerSession| avgSessionLength|avgSessionsPerWeek|totalSong| avgSongPerSession|   avgSongPerWeek|totalHome| avgHomePerSession|   avgHomePerWeek|totalAddFriend|avgAddFriendPerSession|avgAddFriendPerWeek|totalAddToPlaylist|avgAddToPlaylistPerSession|avgAddToPlaylistPerWeek|totalNextSong|avgNextSongPerSession|avgNextSongPerWeek|\n",
      "+------+------+-----+-------------+-------------+-----------------+-----------------+------------------+-----------------+-----------------+-----------+------------+----------------+-----------+-----------------+-----------------+------------------+---------+------------------+-----------------+---------+------------------+-----------------+--------------+----------------------+-------------------+------------------+--------------------------+-----------------------+-------------+---------------------+------------------+\n",
      "|100010|     F|    0|1539003534000|1542823952000|44.21780092592593|6.316828703703703|3.1584143518518517|55.64365740740741|7.949093915343916|       free|           7|             381|66940.89735|54.42857142857143|9562.985335714286|10597.231694877368|      275|39.285714285714285|43.53450329257165|       11|1.5714285714285714|1.741380131702866|             4|    0.5714285714285714| 0.6332291388010423|                 7|                       1.0|     1.1081509929018238|          275|   39.285714285714285| 43.53450329257165|\n",
      "+------+------+-----+-------------+-------------+-----------------+-----------------+------------------+-----------------+-----------------+-----------+------------+----------------+-----------+-----------------+-----------------+------------------+---------+------------------+-----------------+---------+------------------+-----------------+--------------+----------------------+-------------------+------------------+--------------------------+-----------------------+-------------+---------------------+------------------+\n",
      "only showing top 1 row\n",
      "\n"
     ]
    }
   ],
   "source": [
    "#Total times \"NextSong\" is visited  \n",
    "\n",
    "dfNextSong = dfBase.where(dfBase.page == \"NextSong\")\\\n",
    "                .select(\"userId\", count(\"userId\").over(w1).alias(\"totalNextSong\"))\\\n",
    "                .dropDuplicates()\\\n",
    "                .withColumnRenamed(\"userId\",\"userId7\")\n",
    "\n",
    "#Join to final dataset and create the following features\n",
    "#Avg number of \"NextSong\" visits played per session \n",
    "#Avg number of \"NextSong\" visits played per week\n",
    "dfFinal=dfFinal.join(dfNextSong, dfFinal.userId==dfNextSong.userId7, how=\"left\")\\\n",
    "            .select(dfFinal[\"*\"],\\\n",
    "             dfNextSong[\"totalNextSong\"]).na.fill(0)\n",
    "\n",
    "dfFinal = dfFinal.withColumn(\"avgNextSongPerSession\",dfFinal[\"totalNextSong\"]/dfFinal[\"totalSession\"])\\\n",
    "            .withColumn(\"avgNextSongPerWeek\",dfFinal[\"totalNextSong\"]/dfFinal[\"weeksMinToMax\"])\n",
    "\n",
    "dfFinal.show(1)\n",
    "\n",
    "\n"
   ]
  },
  {
   "cell_type": "code",
   "execution_count": 48,
   "metadata": {},
   "outputs": [
    {
     "name": "stdout",
     "output_type": "stream",
     "text": [
      "+------+------+-----+-------------+-------------+-----------------+-----------------+------------------+-----------------+-----------------+-----------+------------+----------------+-----------+-----------------+-----------------+------------------+---------+------------------+-----------------+---------+------------------+-----------------+--------------+----------------------+-------------------+------------------+--------------------------+-----------------------+-------------+---------------------+------------------+-------------+---------------------+------------------+\n",
      "|userId|gender|churn|        tsMin|        tsMax|     daysMinToMax|    weeksMinToMax|fortnightsMinToMax|   daysRegistered|  weeksRegistered|latestLevel|totalSession|totalInteraction|totalLength| avgIntPerSession| avgSessionLength|avgSessionsPerWeek|totalSong| avgSongPerSession|   avgSongPerWeek|totalHome| avgHomePerSession|   avgHomePerWeek|totalAddFriend|avgAddFriendPerSession|avgAddFriendPerWeek|totalAddToPlaylist|avgAddToPlaylistPerSession|avgAddToPlaylistPerWeek|totalNextSong|avgNextSongPerSession|avgNextSongPerWeek|totalThumbsUp|avgThumbsUpPerSession|avgThumbsUpPerWeek|\n",
      "+------+------+-----+-------------+-------------+-----------------+-----------------+------------------+-----------------+-----------------+-----------+------------+----------------+-----------+-----------------+-----------------+------------------+---------+------------------+-----------------+---------+------------------+-----------------+--------------+----------------------+-------------------+------------------+--------------------------+-----------------------+-------------+---------------------+------------------+-------------+---------------------+------------------+\n",
      "|100010|     F|    0|1539003534000|1542823952000|44.21780092592593|6.316828703703703|3.1584143518518517|55.64365740740741|7.949093915343916|       free|           7|             381|66940.89735|54.42857142857143|9562.985335714286|10597.231694877368|      275|39.285714285714285|43.53450329257165|       11|1.5714285714285714|1.741380131702866|             4|    0.5714285714285714| 0.6332291388010423|                 7|                       1.0|     1.1081509929018238|          275|   39.285714285714285| 43.53450329257165|           17|   2.4285714285714284|2.6912238399044295|\n",
      "+------+------+-----+-------------+-------------+-----------------+-----------------+------------------+-----------------+-----------------+-----------+------------+----------------+-----------+-----------------+-----------------+------------------+---------+------------------+-----------------+---------+------------------+-----------------+--------------+----------------------+-------------------+------------------+--------------------------+-----------------------+-------------+---------------------+------------------+-------------+---------------------+------------------+\n",
      "only showing top 1 row\n",
      "\n"
     ]
    }
   ],
   "source": [
    "#Total times \"Thumbs Up\" is visited  \n",
    "\n",
    "dfThumbsUp = dfBase.where(dfBase.page == \"Thumbs Up\")\\\n",
    "                .select(\"userId\", count(\"userId\").over(w1).alias(\"totalThumbsUp\"))\\\n",
    "                .dropDuplicates()\\\n",
    "                .withColumnRenamed(\"userId\",\"userId8\")\n",
    "\n",
    "#Join to final dataset and create the following features\n",
    "#Avg number of \"Thumbs Up\" visits played per session \n",
    "#Avg number of \"Thumbs Up\" visits played per week\n",
    "\n",
    "dfFinal=dfFinal.join(dfThumbsUp, dfFinal.userId==dfThumbsUp.userId8, how=\"left\")\\\n",
    "            .select(dfFinal[\"*\"],\\\n",
    "             dfThumbsUp[\"totalThumbsUp\"]).na.fill(0)\n",
    "\n",
    "dfFinal = dfFinal.withColumn(\"avgThumbsUpPerSession\",dfFinal[\"totalThumbsUp\"]/dfFinal[\"totalSession\"])\\\n",
    "            .withColumn(\"avgThumbsUpPerWeek\",dfFinal[\"totalThumbsUp\"]/dfFinal[\"weeksMinToMax\"])\n",
    "\n",
    "dfFinal.show(1)\n",
    "\n"
   ]
  },
  {
   "cell_type": "code",
   "execution_count": 49,
   "metadata": {},
   "outputs": [
    {
     "name": "stdout",
     "output_type": "stream",
     "text": [
      "+------+------+-----+-------------+-------------+-----------------+-----------------+------------------+-----------------+-----------------+-----------+------------+----------------+-----------+-----------------+-----------------+------------------+---------+------------------+-----------------+---------+------------------+-----------------+--------------+----------------------+-------------------+------------------+--------------------------+-----------------------+-------------+---------------------+------------------+-------------+---------------------+------------------+-----------+-------------------+------------------+\n",
      "|userId|gender|churn|        tsMin|        tsMax|     daysMinToMax|    weeksMinToMax|fortnightsMinToMax|   daysRegistered|  weeksRegistered|latestLevel|totalSession|totalInteraction|totalLength| avgIntPerSession| avgSessionLength|avgSessionsPerWeek|totalSong| avgSongPerSession|   avgSongPerWeek|totalHome| avgHomePerSession|   avgHomePerWeek|totalAddFriend|avgAddFriendPerSession|avgAddFriendPerWeek|totalAddToPlaylist|avgAddToPlaylistPerSession|avgAddToPlaylistPerWeek|totalNextSong|avgNextSongPerSession|avgNextSongPerWeek|totalThumbsUp|avgThumbsUpPerSession|avgThumbsUpPerWeek|totalLogout|avgLogoutPerSession|  avgLogoutPerWeek|\n",
      "+------+------+-----+-------------+-------------+-----------------+-----------------+------------------+-----------------+-----------------+-----------+------------+----------------+-----------+-----------------+-----------------+------------------+---------+------------------+-----------------+---------+------------------+-----------------+--------------+----------------------+-------------------+------------------+--------------------------+-----------------------+-------------+---------------------+------------------+-------------+---------------------+------------------+-----------+-------------------+------------------+\n",
      "|100010|     F|    0|1539003534000|1542823952000|44.21780092592593|6.316828703703703|3.1584143518518517|55.64365740740741|7.949093915343916|       free|           7|             381|66940.89735|54.42857142857143|9562.985335714286|10597.231694877368|      275|39.285714285714285|43.53450329257165|       11|1.5714285714285714|1.741380131702866|             4|    0.5714285714285714| 0.6332291388010423|                 7|                       1.0|     1.1081509929018238|          275|   39.285714285714285| 43.53450329257165|           17|   2.4285714285714284|2.6912238399044295|          5| 0.7142857142857143|0.7915364235013028|\n",
      "+------+------+-----+-------------+-------------+-----------------+-----------------+------------------+-----------------+-----------------+-----------+------------+----------------+-----------+-----------------+-----------------+------------------+---------+------------------+-----------------+---------+------------------+-----------------+--------------+----------------------+-------------------+------------------+--------------------------+-----------------------+-------------+---------------------+------------------+-------------+---------------------+------------------+-----------+-------------------+------------------+\n",
      "only showing top 1 row\n",
      "\n"
     ]
    }
   ],
   "source": [
    "#Total times \"Logout\" is visited  \n",
    "\n",
    "dfLogout = dfBase.where(dfBase.page == \"Logout\")\\\n",
    "                .select(\"userId\", count(\"userId\").over(w1).alias(\"totalLogout\"))\\\n",
    "                .dropDuplicates()\\\n",
    "                .withColumnRenamed(\"userId\",\"userId9\")\n",
    "\n",
    "#Join to final dataset and create the following features\n",
    "#Avg number of \"Thumbs Up\" visits played per session \n",
    "#Avg number of \"Thumbs Up\" visits played per week\n",
    "\n",
    "dfFinal=dfFinal.join(dfLogout, dfFinal.userId==dfLogout.userId9, how=\"left\")\\\n",
    "            .select(dfFinal[\"*\"],\\\n",
    "             dfLogout[\"totalLogout\"]).na.fill(0)\n",
    "\n",
    "dfFinal = dfFinal.withColumn(\"avgLogoutPerSession\",dfFinal[\"totalLogout\"]/dfFinal[\"totalSession\"])\\\n",
    "            .withColumn(\"avgLogoutPerWeek\",dfFinal[\"totalLogout\"]/dfFinal[\"weeksMinToMax\"])\n",
    "\n",
    "dfFinal.show(1)"
   ]
  },
  {
   "cell_type": "code",
   "execution_count": 50,
   "metadata": {},
   "outputs": [
    {
     "name": "stdout",
     "output_type": "stream",
     "text": [
      "+------+------+-----+-------------+-------------+-----------------+-----------------+------------------+-----------------+-----------------+-----------+------------+----------------+-----------+-----------------+-----------------+------------------+---------+------------------+-----------------+---------+------------------+-----------------+--------------+----------------------+-------------------+------------------+--------------------------+-----------------------+-------------+---------------------+------------------+-------------+---------------------+------------------+-----------+-------------------+------------------+---------------+----------------+---------------------+-------------------+------------------+\n",
      "|userId|gender|churn|        tsMin|        tsMax|     daysMinToMax|    weeksMinToMax|fortnightsMinToMax|   daysRegistered|  weeksRegistered|latestLevel|totalSession|totalInteraction|totalLength| avgIntPerSession| avgSessionLength|avgSessionsPerWeek|totalSong| avgSongPerSession|   avgSongPerWeek|totalHome| avgHomePerSession|   avgHomePerWeek|totalAddFriend|avgAddFriendPerSession|avgAddFriendPerWeek|totalAddToPlaylist|avgAddToPlaylistPerSession|avgAddToPlaylistPerWeek|totalNextSong|avgNextSongPerSession|avgNextSongPerWeek|totalThumbsUp|avgThumbsUpPerSession|avgThumbsUpPerWeek|totalLogout|avgLogoutPerSession|  avgLogoutPerWeek|totalDaysActive|totalWeeksActive|totalFortnightsActive|    ActiveDaysRatio|  ActiveWeeksRatio|\n",
      "+------+------+-----+-------------+-------------+-----------------+-----------------+------------------+-----------------+-----------------+-----------+------------+----------------+-----------+-----------------+-----------------+------------------+---------+------------------+-----------------+---------+------------------+-----------------+--------------+----------------------+-------------------+------------------+--------------------------+-----------------------+-------------+---------------------+------------------+-------------+---------------------+------------------+-----------+-------------------+------------------+---------------+----------------+---------------------+-------------------+------------------+\n",
      "|100010|     F|    0|1539003534000|1542823952000|44.21780092592593|6.316828703703703|3.1584143518518517|55.64365740740741|7.949093915343916|       free|           7|             381|66940.89735|54.42857142857143|9562.985335714286|10597.231694877368|      275|39.285714285714285|43.53450329257165|       11|1.5714285714285714|1.741380131702866|             4|    0.5714285714285714| 0.6332291388010423|                 7|                       1.0|     1.1081509929018238|          275|   39.285714285714285| 43.53450329257165|           17|   2.4285714285714284|2.6912238399044295|          5| 0.7142857142857143|0.7915364235013028|              7|               6|                    4|0.15830728470026054|1.2664582776020845|\n",
      "+------+------+-----+-------------+-------------+-----------------+-----------------+------------------+-----------------+-----------------+-----------+------------+----------------+-----------+-----------------+-----------------+------------------+---------+------------------+-----------------+---------+------------------+-----------------+--------------+----------------------+-------------------+------------------+--------------------------+-----------------------+-------------+---------------------+------------------+-------------+---------------------+------------------+-----------+-------------------+------------------+---------------+----------------+---------------------+-------------------+------------------+\n",
      "only showing top 1 row\n",
      "\n"
     ]
    }
   ],
   "source": [
    "#Total number of active days per user\n",
    "#Total number of active weeks per user\n",
    "#Total number of active fortnights per user\n",
    "\n",
    "dfActive = dfBase.select(\"userId\",\"daysToLatest\",\"weeksToLatest\",\"fortnightsToLatest\",\\\n",
    "                          count(\"userId\").over(w3).alias(\"eventsActiveDays\"))\\\n",
    "                 .dropDuplicates()\n",
    "\n",
    "dfActive = dfActive.withColumn(\"totalDaysActive\", count(\"daysToLatest\").over(w1))\\\n",
    "                   .drop(\"daysToLatest\",\"eventsActiveDays\").dropDuplicates()\n",
    "\n",
    "dfActive = dfActive.select(\"userId\",\"totalDaysActive\", \"weeksToLatest\",\"fortnightsToLatest\", \\\n",
    "                          count(\"userId\").over(w4).alias(\"eventsActiveWeeks\"))\\\n",
    "                   .dropDuplicates()\n",
    "dfActive = dfActive.withColumn(\"totalWeeksActive\", count(\"weeksToLatest\").over(w1))\\\n",
    "                   .drop(\"weeksToLatest\",\"eventsActiveWeeks\").dropDuplicates()\n",
    "\n",
    "dfActive = dfActive.select(\"userId\",\"totalDaysActive\", \"totalWeeksActive\",\"fortnightsToLatest\", \\\n",
    "                          count(\"userId\").over(w5).alias(\"eventsActiveFortnights\"))\\\n",
    "                 .dropDuplicates()\n",
    "dfActive = dfActive.withColumn(\"totalFortnightsActive\", count(\"fortnightsToLatest\").over(w1))\\\n",
    "                   .drop(\"fortnightsToLatest\",\"eventsActiveFortnights\").dropDuplicates()\\\n",
    "                   .withColumnRenamed(\"userId\",\"userId10\")\n",
    "\n",
    "#Join to final dataset and create the following features\n",
    "#Proportion of Active Days to Inactive Days\n",
    "#Proportion of Active Weeks to Inactive Weeks\n",
    "#Proportion of Active Fortnights to Inactive Fortnights\n",
    "dfFinal=dfFinal.join(dfActive, dfFinal.userId==dfActive.userId10, how=\"left\")\\\n",
    "            .select(dfFinal[\"*\"],\\\n",
    "             dfActive[\"totalDaysActive\"],dfActive[\"totalWeeksActive\"],dfActive[\"totalFortnightsActive\"])\n",
    "\n",
    "dfFinal = dfFinal.withColumn(\"ActiveDaysRatio\",dfFinal[\"totalDaysActive\"]/dfFinal[\"daysMinToMax\"])\\\n",
    "            .withColumn(\"ActiveWeeksRatio\",dfFinal[\"totalWeeksActive\"]/dfFinal[\"weeksMinToMax\"])\\\n",
    "            .withColumn(\"ActiveWeeksRatio\",dfFinal[\"totalFortnightsActive\"]/dfFinal[\"fortnightsMinToMax\"])\n",
    "\n",
    "dfFinal.show(1)\n",
    "\n",
    "\n",
    "\n"
   ]
  },
  {
   "cell_type": "code",
   "execution_count": 51,
   "metadata": {},
   "outputs": [
    {
     "data": {
      "text/plain": [
       "[Row(userId='100010', gender='F', churn=0, tsMin=1539003534000, tsMax=1542823952000, daysMinToMax='44.21780092592593', weeksMinToMax='6.316828703703703', fortnightsMinToMax='3.1584143518518517', daysRegistered='55.64365740740741', weeksRegistered='7.949093915343916', latestLevel='free', totalSession=7, totalInteraction=381, totalLength=66940.89735, avgIntPerSession=54.42857142857143, avgSessionLength=9562.985335714286, avgSessionsPerWeek=10597.231694877368, totalSong=275, avgSongPerSession=39.285714285714285, avgSongPerWeek=43.53450329257165, totalHome=11, avgHomePerSession=1.5714285714285714, avgHomePerWeek=1.741380131702866, totalAddFriend=4, avgAddFriendPerSession=0.5714285714285714, avgAddFriendPerWeek=0.6332291388010423, totalAddToPlaylist=7, avgAddToPlaylistPerSession=1.0, avgAddToPlaylistPerWeek=1.1081509929018238, totalNextSong=275, avgNextSongPerSession=39.285714285714285, avgNextSongPerWeek=43.53450329257165, totalThumbsUp=17, avgThumbsUpPerSession=2.4285714285714284, avgThumbsUpPerWeek=2.6912238399044295, totalLogout=5, avgLogoutPerSession=0.7142857142857143, avgLogoutPerWeek=0.7915364235013028, totalDaysActive=7, totalWeeksActive=6, totalFortnightsActive=4, ActiveDaysRatio=0.15830728470026054, ActiveWeeksRatio=1.2664582776020845, totalSessionWk0=1, totalInteractionWk0=33, totalLengthWk0=5999.270759999999, avgIntPerSessionWk0=33.0, avgSessionLengthWk0=5999.270759999999)]"
      ]
     },
     "execution_count": 51,
     "metadata": {},
     "output_type": "execute_result"
    }
   ],
   "source": [
    "#Features specific to the week prior to the final interaction\n",
    "#Total number of sessions \n",
    "#Total number interactions per \n",
    "#Total length per session\n",
    "\n",
    "\n",
    "dfWeek0ToEnd=dfBase.where(dfBase.weeksToLatest==0).select(\"userId\", \"sessionId\", \\\n",
    "                          sum(\"length\").over(w2).alias(\"lengthSessionsWk0\"),\\\n",
    "                          count(\"userId\").over(w2).alias(\"eventsSessionsWk0\"))\\\n",
    "                    .dropDuplicates()\n",
    "\n",
    "dfWeek0ToEnd = dfWeek0ToEnd.withColumn(\"totalSessionWk0\", count(\"sessionId\").over(w1))\\\n",
    "                     .withColumn(\"totalInteractionWk0\", sum(\"eventsSessionsWk0\").over(w1))\\\n",
    "                     .withColumn(\"totalLengthWk0\", sum(\"lengthSessionsWk0\").over(w1))\\\n",
    "                     .withColumnRenamed(\"userId\",\"userIdWk0\")\\\n",
    "                     .drop(\"sessionId\",\"eventsSessionsWk0\",\"lengthSessionsWk0\").dropDuplicates()\n",
    "\n",
    "#Join to final dataset and create the following features\n",
    "#Avg interactions per session\n",
    "#Avg length of session \n",
    "dfFinal=dfFinal.join(dfWeek0ToEnd, dfFinal.userId==dfWeek0ToEnd.userIdWk0, how=\"left\")\\\n",
    "            .select(dfFinal[\"*\"],\\\n",
    "             dfWeek0ToEnd[\"totalSessionWk0\"],dfWeek0ToEnd[\"totalInteractionWk0\"],dfWeek0ToEnd[\"totalLengthWk0\"])\\\n",
    "            .na.fill(0)\n",
    "\n",
    "\n",
    "dfFinal = dfFinal.withColumn(\"avgIntPerSessionWk0\",dfFinal[\"totalInteractionWk0\"]/dfFinal[\"totalSessionWk0\"])\\\n",
    "            .withColumn(\"avgSessionLengthWk0\",dfFinal[\"totalLengthWk0\"]/dfFinal[\"totalSessionWk0\"])\\\n",
    "\n",
    "dfFinal.take(1)"
   ]
  },
  {
   "cell_type": "code",
   "execution_count": 52,
   "metadata": {},
   "outputs": [
    {
     "data": {
      "text/plain": [
       "[Row(userId='100010', gender='F', churn=0, tsMin=1539003534000, tsMax=1542823952000, daysMinToMax='44.21780092592593', weeksMinToMax='6.316828703703703', fortnightsMinToMax='3.1584143518518517', daysRegistered='55.64365740740741', weeksRegistered='7.949093915343916', latestLevel='free', totalSession=7, totalInteraction=381, totalLength=66940.89735, avgIntPerSession=54.42857142857143, avgSessionLength=9562.985335714286, avgSessionsPerWeek=10597.231694877368, totalSong=275, avgSongPerSession=39.285714285714285, avgSongPerWeek=43.53450329257165, totalHome=11, avgHomePerSession=1.5714285714285714, avgHomePerWeek=1.741380131702866, totalAddFriend=4, avgAddFriendPerSession=0.5714285714285714, avgAddFriendPerWeek=0.6332291388010423, totalAddToPlaylist=7, avgAddToPlaylistPerSession=1.0, avgAddToPlaylistPerWeek=1.1081509929018238, totalNextSong=275, avgNextSongPerSession=39.285714285714285, avgNextSongPerWeek=43.53450329257165, totalThumbsUp=17, avgThumbsUpPerSession=2.4285714285714284, avgThumbsUpPerWeek=2.6912238399044295, totalLogout=5, avgLogoutPerSession=0.7142857142857143, avgLogoutPerWeek=0.7915364235013028, totalDaysActive=7, totalWeeksActive=6, totalFortnightsActive=4, ActiveDaysRatio=0.15830728470026054, ActiveWeeksRatio=1.2664582776020845, totalSessionWk0=1, totalInteractionWk0=33, totalLengthWk0=5999.270759999999, avgIntPerSessionWk0=33.0, avgSessionLengthWk0=5999.270759999999, totalSessionWk1=1, totalInteractionWk1=112, totalLengthWk1=19634.6674, avgIntPerSessionWk1=112.0, avgSessionLengthWk1=19634.6674)]"
      ]
     },
     "execution_count": 52,
     "metadata": {},
     "output_type": "execute_result"
    }
   ],
   "source": [
    "#Features specific to the second week prior to the final interaction\n",
    "#Total number of sessions in each of the final four weeks of user activity\n",
    "#Total number interactions per user\n",
    "#Total length per session\n",
    "\n",
    "dfWeek1ToEnd=dfBase.where(dfBase.weeksToLatest==1).select(\"userId\", \"sessionId\", \\\n",
    "                          sum(\"length\").over(w2).alias(\"lengthSessionsWk1\"),\\\n",
    "                          count(\"userId\").over(w2).alias(\"eventsSessionsWk1\"))\\\n",
    "                    .dropDuplicates()\n",
    "\n",
    "dfWeek1ToEnd = dfWeek1ToEnd.withColumn(\"totalSessionWk1\", count(\"sessionId\").over(w1))\\\n",
    "                     .withColumn(\"totalInteractionWk1\", sum(\"eventsSessionsWk1\").over(w1))\\\n",
    "                     .withColumn(\"totalLengthWk1\", sum(\"lengthSessionsWk1\").over(w1))\\\n",
    "                     .withColumnRenamed(\"userId\",\"userIdWk1\")\\\n",
    "                     .drop(\"sessionId\",\"eventsSessionsWk1\",\"lengthSessionsWk1\").dropDuplicates()\n",
    "\n",
    "#Join to final dataset and create the following features\n",
    "#Avg interactions per session\n",
    "#Avg length of session \n",
    "dfFinal=dfFinal.join(dfWeek1ToEnd, dfFinal.userId==dfWeek1ToEnd.userIdWk1, how=\"left\")\\\n",
    "            .select(dfFinal[\"*\"],\\\n",
    "             dfWeek1ToEnd[\"totalSessionWk1\"],dfWeek1ToEnd[\"totalInteractionWk1\"],dfWeek1ToEnd[\"totalLengthWk1\"])\\\n",
    "            .na.fill(0)\n",
    "\n",
    "\n",
    "dfFinal = dfFinal.withColumn(\"avgIntPerSessionWk1\",dfFinal[\"totalInteractionWk1\"]/dfFinal[\"totalSessionWk1\"])\\\n",
    "            .withColumn(\"avgSessionLengthWk1\",dfFinal[\"totalLengthWk1\"]/dfFinal[\"totalSessionWk1\"])\\\n",
    "\n",
    "dfFinal.take(1)"
   ]
  },
  {
   "cell_type": "code",
   "execution_count": 53,
   "metadata": {},
   "outputs": [
    {
     "data": {
      "text/plain": [
       "[Row(userId='100010', gender='F', churn=0, tsMin=1539003534000, tsMax=1542823952000, daysMinToMax='44.21780092592593', weeksMinToMax='6.316828703703703', fortnightsMinToMax='3.1584143518518517', daysRegistered='55.64365740740741', weeksRegistered='7.949093915343916', latestLevel='free', totalSession=7, totalInteraction=381, totalLength=66940.89735, avgIntPerSession=54.42857142857143, avgSessionLength=9562.985335714286, avgSessionsPerWeek=10597.231694877368, totalSong=275, avgSongPerSession=39.285714285714285, avgSongPerWeek=43.53450329257165, totalHome=11, avgHomePerSession=1.5714285714285714, avgHomePerWeek=1.741380131702866, totalAddFriend=4, avgAddFriendPerSession=0.5714285714285714, avgAddFriendPerWeek=0.6332291388010423, totalAddToPlaylist=7, avgAddToPlaylistPerSession=1.0, avgAddToPlaylistPerWeek=1.1081509929018238, totalNextSong=275, avgNextSongPerSession=39.285714285714285, avgNextSongPerWeek=43.53450329257165, totalThumbsUp=17, avgThumbsUpPerSession=2.4285714285714284, avgThumbsUpPerWeek=2.6912238399044295, totalLogout=5, avgLogoutPerSession=0.7142857142857143, avgLogoutPerWeek=0.7915364235013028, totalDaysActive=7, totalWeeksActive=6, totalFortnightsActive=4, ActiveDaysRatio=0.15830728470026054, ActiveWeeksRatio=1.2664582776020845, totalSessionWk0=1, totalInteractionWk0=33, totalLengthWk0=5999.270759999999, avgIntPerSessionWk0=33.0, avgSessionLengthWk0=5999.270759999999, totalSessionWk1=1, totalInteractionWk1=112, totalLengthWk1=19634.6674, avgIntPerSessionWk1=112.0, avgSessionLengthWk1=19634.6674, totalSessionWk2=1, totalInteractionWk2=72, totalLengthWk2=13040.32954, avgIntPerSessionWk2=72.0, avgSessionLengthWk2=13040.32954)]"
      ]
     },
     "execution_count": 53,
     "metadata": {},
     "output_type": "execute_result"
    }
   ],
   "source": [
    "#Features specific to the third week prior to the final interaction\n",
    "#Total number of sessions\n",
    "#Total number interactions per user\n",
    "#Total length per session\n",
    "dfWeek2ToEnd=dfBase.where(dfBase.weeksToLatest==2).select(\"userId\", \"sessionId\", \\\n",
    "                          sum(\"length\").over(w2).alias(\"lengthSessionsWk2\"),\\\n",
    "                          count(\"userId\").over(w2).alias(\"eventsSessionsWk2\"))\\\n",
    "                    .dropDuplicates()\n",
    "\n",
    "dfWeek2ToEnd = dfWeek2ToEnd.withColumn(\"totalSessionWk2\", count(\"sessionId\").over(w1))\\\n",
    "                     .withColumn(\"totalInteractionWk2\", sum(\"eventsSessionsWk2\").over(w1))\\\n",
    "                     .withColumn(\"totalLengthWk2\", sum(\"lengthSessionsWk2\").over(w1))\\\n",
    "                     .withColumnRenamed(\"userId\",\"userIdWk2\")\\\n",
    "                     .drop(\"sessionId\",\"eventsSessionsWk2\",\"lengthSessionsWk2\").dropDuplicates()\n",
    "\n",
    "\n",
    "#Join to final dataset and create the following features\n",
    "#Avg interactions per session\n",
    "#Avg length of session\n",
    "dfFinal=dfFinal.join(dfWeek2ToEnd, dfFinal.userId==dfWeek2ToEnd.userIdWk2, how=\"left\")\\\n",
    "            .select(dfFinal[\"*\"],\\\n",
    "             dfWeek2ToEnd[\"totalSessionWk2\"],dfWeek2ToEnd[\"totalInteractionWk2\"],dfWeek2ToEnd[\"totalLengthWk2\"])\\\n",
    "            .na.fill(0)\n",
    "\n",
    "dfFinal = dfFinal.withColumn(\"avgIntPerSessionWk2\",dfFinal[\"totalInteractionWk2\"]/dfFinal[\"totalSessionWk2\"])\\\n",
    "            .withColumn(\"avgSessionLengthWk2\",dfFinal[\"totalLengthWk2\"]/dfFinal[\"totalSessionWk2\"])\\\n",
    "\n",
    "dfFinal.take(1)"
   ]
  },
  {
   "cell_type": "code",
   "execution_count": 54,
   "metadata": {},
   "outputs": [
    {
     "data": {
      "text/plain": [
       "[Row(userId='100010', gender='F', churn=0, tsMin=1539003534000, tsMax=1542823952000, daysMinToMax='44.21780092592593', weeksMinToMax='6.316828703703703', fortnightsMinToMax='3.1584143518518517', daysRegistered='55.64365740740741', weeksRegistered='7.949093915343916', latestLevel='free', totalSession=7, totalInteraction=381, totalLength=66940.89735, avgIntPerSession=54.42857142857143, avgSessionLength=9562.985335714286, avgSessionsPerWeek=10597.231694877368, totalSong=275, avgSongPerSession=39.285714285714285, avgSongPerWeek=43.53450329257165, totalHome=11, avgHomePerSession=1.5714285714285714, avgHomePerWeek=1.741380131702866, totalAddFriend=4, avgAddFriendPerSession=0.5714285714285714, avgAddFriendPerWeek=0.6332291388010423, totalAddToPlaylist=7, avgAddToPlaylistPerSession=1.0, avgAddToPlaylistPerWeek=1.1081509929018238, totalNextSong=275, avgNextSongPerSession=39.285714285714285, avgNextSongPerWeek=43.53450329257165, totalThumbsUp=17, avgThumbsUpPerSession=2.4285714285714284, avgThumbsUpPerWeek=2.6912238399044295, totalLogout=5, avgLogoutPerSession=0.7142857142857143, avgLogoutPerWeek=0.7915364235013028, totalDaysActive=7, totalWeeksActive=6, totalFortnightsActive=4, ActiveDaysRatio=0.15830728470026054, ActiveWeeksRatio=1.2664582776020845, totalSessionWk0=1, totalInteractionWk0=33, totalLengthWk0=5999.270759999999, avgIntPerSessionWk0=33.0, avgSessionLengthWk0=5999.270759999999, totalSessionWk1=1, totalInteractionWk1=112, totalLengthWk1=19634.6674, avgIntPerSessionWk1=112.0, avgSessionLengthWk1=19634.6674, totalSessionWk2=1, totalInteractionWk2=72, totalLengthWk2=13040.32954, avgIntPerSessionWk2=72.0, avgSessionLengthWk2=13040.32954, totalSessionWk3=0, totalInteractionWk3=0, totalLengthWk3=0.0, avgIntPerSessionWk3=None, avgSessionLengthWk3=None)]"
      ]
     },
     "execution_count": 54,
     "metadata": {},
     "output_type": "execute_result"
    }
   ],
   "source": [
    "#Features specific to the fourth week prior to the final interaction\n",
    "#Total number of sessions \n",
    "#Total number interactions per user\n",
    "#Total length per session\n",
    "dfWeek3ToEnd=dfBase.where(dfBase.weeksToLatest==3).select(\"userId\", \"sessionId\", \\\n",
    "                          sum(\"length\").over(w2).alias(\"lengthSessionsWk3\"),\\\n",
    "                          count(\"userId\").over(w2).alias(\"eventsSessionsWk3\"))\\\n",
    "                    .dropDuplicates()\n",
    "\n",
    "\n",
    "dfWeek3ToEnd = dfWeek3ToEnd.withColumn(\"totalSessionWk3\", count(\"sessionId\").over(w1))\\\n",
    "                     .withColumn(\"totalInteractionWk3\", sum(\"eventsSessionsWk3\").over(w1))\\\n",
    "                     .withColumn(\"totalLengthWk3\", sum(\"lengthSessionsWk3\").over(w1))\\\n",
    "                     .withColumnRenamed(\"userId\",\"userIdWk3\")\\\n",
    "                     .drop(\"sessionId\",\"eventsSessionsWk3\",\"lengthSessionsWk3\").dropDuplicates()\n",
    "\n",
    "#Join to final dataset and create the following features\n",
    "#Avg interactions per session\n",
    "#Avg length of session\n",
    "dfFinal=dfFinal.join(dfWeek3ToEnd, dfFinal.userId==dfWeek3ToEnd.userIdWk3, how=\"left\")\\\n",
    "            .select(dfFinal[\"*\"],\\\n",
    "             dfWeek3ToEnd[\"totalSessionWk3\"],dfWeek3ToEnd[\"totalInteractionWk3\"],dfWeek3ToEnd[\"totalLengthWk3\"])\\\n",
    "            .na.fill(0)\n",
    "\n",
    "dfFinal = dfFinal.withColumn(\"avgIntPerSessionWk3\",dfFinal[\"totalInteractionWk3\"]/dfFinal[\"totalSessionWk3\"])\\\n",
    "            .withColumn(\"avgSessionLengthWk3\",dfFinal[\"totalLengthWk3\"]/dfFinal[\"totalSessionWk3\"])\\\n",
    "\n",
    "dfFinal.take(1)\n",
    "\n"
   ]
  },
  {
   "cell_type": "code",
   "execution_count": 55,
   "metadata": {},
   "outputs": [
    {
     "name": "stdout",
     "output_type": "stream",
     "text": [
      "+------+------+-----+-------------+-------------+-----------------+-----------------+------------------+-----------------+-----------------+-----------+------------+----------------+-----------+-----------------+-----------------+------------------+---------+------------------+-----------------+---------+------------------+-----------------+--------------+----------------------+-------------------+------------------+--------------------------+-----------------------+-------------+---------------------+------------------+-------------+---------------------+------------------+-----------+-------------------+------------------+---------------+----------------+---------------------+-------------------+------------------+---------------+-------------------+-----------------+-------------------+-------------------+---------------+-------------------+--------------+-------------------+-------------------+---------------+-------------------+--------------+-------------------+-------------------+---------------+-------------------+--------------+-------------------+-------------------+------------------+-------------------+------------------------+-------------------+-------------------+\n",
      "|userId|gender|churn|        tsMin|        tsMax|     daysMinToMax|    weeksMinToMax|fortnightsMinToMax|   daysRegistered|  weeksRegistered|latestLevel|totalSession|totalInteraction|totalLength| avgIntPerSession| avgSessionLength|avgSessionsPerWeek|totalSong| avgSongPerSession|   avgSongPerWeek|totalHome| avgHomePerSession|   avgHomePerWeek|totalAddFriend|avgAddFriendPerSession|avgAddFriendPerWeek|totalAddToPlaylist|avgAddToPlaylistPerSession|avgAddToPlaylistPerWeek|totalNextSong|avgNextSongPerSession|avgNextSongPerWeek|totalThumbsUp|avgThumbsUpPerSession|avgThumbsUpPerWeek|totalLogout|avgLogoutPerSession|  avgLogoutPerWeek|totalDaysActive|totalWeeksActive|totalFortnightsActive|    ActiveDaysRatio|  ActiveWeeksRatio|totalSessionWk0|totalInteractionWk0|   totalLengthWk0|avgIntPerSessionWk0|avgSessionLengthWk0|totalSessionWk1|totalInteractionWk1|totalLengthWk1|avgIntPerSessionWk1|avgSessionLengthWk1|totalSessionWk2|totalInteractionWk2|totalLengthWk2|avgIntPerSessionWk2|avgSessionLengthWk2|totalSessionWk3|totalInteractionWk3|totalLengthWk3|avgIntPerSessionWk3|avgSessionLengthWk3|totalDaysActiveFN0|totalWeeksActiveFN0|totalFortnightsActiveFN0| ActiveDaysRatioFN0|ActiveWeeksRatioFN0|\n",
      "+------+------+-----+-------------+-------------+-----------------+-----------------+------------------+-----------------+-----------------+-----------+------------+----------------+-----------+-----------------+-----------------+------------------+---------+------------------+-----------------+---------+------------------+-----------------+--------------+----------------------+-------------------+------------------+--------------------------+-----------------------+-------------+---------------------+------------------+-------------+---------------------+------------------+-----------+-------------------+------------------+---------------+----------------+---------------------+-------------------+------------------+---------------+-------------------+-----------------+-------------------+-------------------+---------------+-------------------+--------------+-------------------+-------------------+---------------+-------------------+--------------+-------------------+-------------------+---------------+-------------------+--------------+-------------------+-------------------+------------------+-------------------+------------------------+-------------------+-------------------+\n",
      "|100010|     F|    0|1539003534000|1542823952000|44.21780092592593|6.316828703703703|3.1584143518518517|55.64365740740741|7.949093915343916|       free|           7|             381|66940.89735|54.42857142857143|9562.985335714286|10597.231694877368|      275|39.285714285714285|43.53450329257165|       11|1.5714285714285714|1.741380131702866|             4|    0.5714285714285714| 0.6332291388010423|                 7|                       1.0|     1.1081509929018238|          275|   39.285714285714285| 43.53450329257165|           17|   2.4285714285714284|2.6912238399044295|          5| 0.7142857142857143|0.7915364235013028|              7|               6|                    4|0.15830728470026054|1.2664582776020845|              1|                 33|5999.270759999999|               33.0|  5999.270759999999|              1|                112|    19634.6674|              112.0|         19634.6674|              1|                 72|   13040.32954|               72.0|        13040.32954|              0|                  0|           0.0|                0.0|                0.0|                 2|                  2|                       1|0.14285714285714285|                1.0|\n",
      "+------+------+-----+-------------+-------------+-----------------+-----------------+------------------+-----------------+-----------------+-----------+------------+----------------+-----------+-----------------+-----------------+------------------+---------+------------------+-----------------+---------+------------------+-----------------+--------------+----------------------+-------------------+------------------+--------------------------+-----------------------+-------------+---------------------+------------------+-------------+---------------------+------------------+-----------+-------------------+------------------+---------------+----------------+---------------------+-------------------+------------------+---------------+-------------------+-----------------+-------------------+-------------------+---------------+-------------------+--------------+-------------------+-------------------+---------------+-------------------+--------------+-------------------+-------------------+---------------+-------------------+--------------+-------------------+-------------------+------------------+-------------------+------------------------+-------------------+-------------------+\n",
      "only showing top 1 row\n",
      "\n"
     ]
    }
   ],
   "source": [
    "#Features specific to the fortnight prior to the final interaction\n",
    "\n",
    "#Total number of active days per user\n",
    "#Total number interactions per user\n",
    "#Total length per session\n",
    "\n",
    "\n",
    "dfActiveFN0 = dfBase.where(dfBase.fortnightsToLatest==0)\\\n",
    "                 .select(\"userId\",\"daysToLatest\",\"weeksToLatest\",\"fortnightsToLatest\",\\\n",
    "                          count(\"userId\").over(w3).alias(\"eventsActiveDays\"))\\\n",
    "                 .dropDuplicates()\n",
    "\n",
    "dfActiveFN0 = dfActiveFN0.withColumn(\"totalDaysActiveFN0\", count(\"daysToLatest\").over(w1))\\\n",
    "                   .drop(\"daysToLatest\",\"eventsActiveDays\").dropDuplicates()\n",
    "\n",
    "dfActiveFN0 = dfActiveFN0.select(\"userId\",\"totalDaysActiveFN0\", \"weeksToLatest\",\"fortnightsToLatest\", \\\n",
    "                          count(\"userId\").over(w4).alias(\"eventsActiveWeeks\"))\\\n",
    "                   .dropDuplicates()\n",
    "dfActiveFN0 = dfActiveFN0.withColumn(\"totalWeeksActiveFN0\", count(\"weeksToLatest\").over(w1))\\\n",
    "                   .drop(\"weeksToLatest\",\"eventsActiveWeeks\").dropDuplicates()\n",
    "\n",
    "dfActiveFN0 = dfActiveFN0.select(\"userId\",\"totalDaysActiveFN0\", \"totalWeeksActiveFN0\",\"fortnightsToLatest\", \\\n",
    "                          count(\"userId\").over(w5).alias(\"eventsActiveFortnights\"))\\\n",
    "                 .dropDuplicates()\n",
    "dfActiveFN0 = dfActiveFN0.withColumn(\"totalFortnightsActiveFN0\", count(\"fortnightsToLatest\").over(w1))\\\n",
    "                   .drop(\"fortnightsToLatest\",\"eventsActiveFortnights\").dropDuplicates()\\\n",
    "                   .withColumnRenamed(\"userId\",\"userIdFN0\")\n",
    "\n",
    "\n",
    "#Join to final dataset and create the following features\n",
    "#Proportion of Active Days to Inactive Days\n",
    "#Proportion of Active Weeks to Inactive Weeks\n",
    "dfFinal=dfFinal.join(dfActiveFN0, dfFinal.userId==dfActiveFN0.userIdFN0, how=\"left\")\\\n",
    "            .select(dfFinal[\"*\"],\\\n",
    "             dfActiveFN0[\"totalDaysActiveFN0\"],dfActiveFN0[\"totalWeeksActiveFN0\"],\\\n",
    "                    dfActiveFN0[\"totalFortnightsActiveFN0\"])\\\n",
    "            .na.fill(0)\n",
    "\n",
    "dfFinal = dfFinal.withColumn(\"ActiveDaysRatioFN0\",dfFinal[\"totalDaysActiveFN0\"]/14)\\\n",
    "            .withColumn(\"ActiveWeeksRatioFN0\",dfFinal[\"totalWeeksActiveFN0\"]/2)\\\n",
    "\n",
    "dfFinal.show(1)\n",
    "\n"
   ]
  },
  {
   "cell_type": "code",
   "execution_count": 56,
   "metadata": {},
   "outputs": [
    {
     "name": "stdout",
     "output_type": "stream",
     "text": [
      "+------+------+-----+-------------+-------------+-----------------+-----------------+------------------+-----------------+-----------------+-----------+------------+----------------+-----------+-----------------+-----------------+------------------+---------+------------------+-----------------+---------+------------------+-----------------+--------------+----------------------+-------------------+------------------+--------------------------+-----------------------+-------------+---------------------+------------------+-------------+---------------------+------------------+-----------+-------------------+------------------+---------------+----------------+---------------------+-------------------+------------------+---------------+-------------------+-----------------+-------------------+-------------------+---------------+-------------------+--------------+-------------------+-------------------+---------------+-------------------+--------------+-------------------+-------------------+---------------+-------------------+--------------+-------------------+-------------------+------------------+-------------------+------------------------+-------------------+-------------------+------------------+-------------------+------------------------+-------------------+-------------------+\n",
      "|userId|gender|churn|        tsMin|        tsMax|     daysMinToMax|    weeksMinToMax|fortnightsMinToMax|   daysRegistered|  weeksRegistered|latestLevel|totalSession|totalInteraction|totalLength| avgIntPerSession| avgSessionLength|avgSessionsPerWeek|totalSong| avgSongPerSession|   avgSongPerWeek|totalHome| avgHomePerSession|   avgHomePerWeek|totalAddFriend|avgAddFriendPerSession|avgAddFriendPerWeek|totalAddToPlaylist|avgAddToPlaylistPerSession|avgAddToPlaylistPerWeek|totalNextSong|avgNextSongPerSession|avgNextSongPerWeek|totalThumbsUp|avgThumbsUpPerSession|avgThumbsUpPerWeek|totalLogout|avgLogoutPerSession|  avgLogoutPerWeek|totalDaysActive|totalWeeksActive|totalFortnightsActive|    ActiveDaysRatio|  ActiveWeeksRatio|totalSessionWk0|totalInteractionWk0|   totalLengthWk0|avgIntPerSessionWk0|avgSessionLengthWk0|totalSessionWk1|totalInteractionWk1|totalLengthWk1|avgIntPerSessionWk1|avgSessionLengthWk1|totalSessionWk2|totalInteractionWk2|totalLengthWk2|avgIntPerSessionWk2|avgSessionLengthWk2|totalSessionWk3|totalInteractionWk3|totalLengthWk3|avgIntPerSessionWk3|avgSessionLengthWk3|totalDaysActiveFN0|totalWeeksActiveFN0|totalFortnightsActiveFN0| ActiveDaysRatioFN0|ActiveWeeksRatioFN0|totalDaysActiveFN1|totalWeeksActiveFN1|totalFortnightsActiveFN1| ActiveDaysRatioFN1|ActiveWeeksRatioFN1|\n",
      "+------+------+-----+-------------+-------------+-----------------+-----------------+------------------+-----------------+-----------------+-----------+------------+----------------+-----------+-----------------+-----------------+------------------+---------+------------------+-----------------+---------+------------------+-----------------+--------------+----------------------+-------------------+------------------+--------------------------+-----------------------+-------------+---------------------+------------------+-------------+---------------------+------------------+-----------+-------------------+------------------+---------------+----------------+---------------------+-------------------+------------------+---------------+-------------------+-----------------+-------------------+-------------------+---------------+-------------------+--------------+-------------------+-------------------+---------------+-------------------+--------------+-------------------+-------------------+---------------+-------------------+--------------+-------------------+-------------------+------------------+-------------------+------------------------+-------------------+-------------------+------------------+-------------------+------------------------+-------------------+-------------------+\n",
      "|100010|     F|    0|1539003534000|1542823952000|44.21780092592593|6.316828703703703|3.1584143518518517|55.64365740740741|7.949093915343916|       free|           7|             381|66940.89735|54.42857142857143|9562.985335714286|10597.231694877368|      275|39.285714285714285|43.53450329257165|       11|1.5714285714285714|1.741380131702866|             4|    0.5714285714285714| 0.6332291388010423|                 7|                       1.0|     1.1081509929018238|          275|   39.285714285714285| 43.53450329257165|           17|   2.4285714285714284|2.6912238399044295|          5| 0.7142857142857143|0.7915364235013028|              7|               6|                    4|0.15830728470026054|1.2664582776020845|              1|                 33|5999.270759999999|               33.0|  5999.270759999999|              1|                112|    19634.6674|              112.0|         19634.6674|              1|                 72|   13040.32954|               72.0|        13040.32954|              0|                  0|           0.0|                0.0|                0.0|                 2|                  2|                       1|0.14285714285714285|                1.0|                 1|                  1|                       1|0.07142857142857142|                0.5|\n",
      "+------+------+-----+-------------+-------------+-----------------+-----------------+------------------+-----------------+-----------------+-----------+------------+----------------+-----------+-----------------+-----------------+------------------+---------+------------------+-----------------+---------+------------------+-----------------+--------------+----------------------+-------------------+------------------+--------------------------+-----------------------+-------------+---------------------+------------------+-------------+---------------------+------------------+-----------+-------------------+------------------+---------------+----------------+---------------------+-------------------+------------------+---------------+-------------------+-----------------+-------------------+-------------------+---------------+-------------------+--------------+-------------------+-------------------+---------------+-------------------+--------------+-------------------+-------------------+---------------+-------------------+--------------+-------------------+-------------------+------------------+-------------------+------------------------+-------------------+-------------------+------------------+-------------------+------------------------+-------------------+-------------------+\n",
      "only showing top 1 row\n",
      "\n"
     ]
    }
   ],
   "source": [
    "#Features specific to the penultimate fortnight prior to the final interaction\n",
    "#Total number of active days per user\n",
    "#Total number of active weeks per user\n",
    "#Total number of active fortnights per user\n",
    "dfActiveFN1 = dfBase.where(dfBase.fortnightsToLatest==1)\\\n",
    "                 .select(\"userId\",\"daysToLatest\",\"weeksToLatest\",\"fortnightsToLatest\",\\\n",
    "                          count(\"userId\").over(w3).alias(\"eventsActiveDays\"))\\\n",
    "                 .dropDuplicates()\n",
    "\n",
    "dfActiveFN1 = dfActiveFN1.withColumn(\"totalDaysActiveFN1\", count(\"daysToLatest\").over(w1))\\\n",
    "                   .drop(\"daysToLatest\",\"eventsActiveDays\").dropDuplicates()\n",
    "\n",
    "dfActiveFN1 = dfActiveFN1.select(\"userId\",\"totalDaysActiveFN1\", \"weeksToLatest\",\"fortnightsToLatest\", \\\n",
    "                          count(\"userId\").over(w4).alias(\"eventsActiveWeeks\"))\\\n",
    "                   .dropDuplicates()\n",
    "dfActiveFN1 = dfActiveFN1.withColumn(\"totalWeeksActiveFN1\", count(\"weeksToLatest\").over(w1))\\\n",
    "                   .drop(\"weeksToLatest\",\"eventsActiveWeeks\").dropDuplicates()\n",
    "\n",
    "dfActiveFN1 = dfActiveFN1.select(\"userId\",\"totalDaysActiveFN1\", \"totalWeeksActiveFN1\",\"fortnightsToLatest\", \\\n",
    "                          count(\"userId\").over(w5).alias(\"eventsActiveFortnights\"))\\\n",
    "                 .dropDuplicates()\n",
    "dfActiveFN1 = dfActiveFN1.withColumn(\"totalFortnightsActiveFN1\", count(\"fortnightsToLatest\").over(w1))\\\n",
    "                   .drop(\"fortnightsToLatest\",\"eventsActiveFortnights\").dropDuplicates()\\\n",
    "                   .withColumnRenamed(\"userId\",\"userIdFN1\")\n",
    "\n",
    "\n",
    "#Join to final dataset and create the following features\n",
    "#Proportion of Active Days to Inactive Days\n",
    "#Proportion of Active Weeks to Inactive Weeks\n",
    "#Proportion of Active Fortnights to Inactive Fortnights\n",
    "dfFinal=dfFinal.join(dfActiveFN1, dfFinal.userId==dfActiveFN1.userIdFN1, how=\"left\")\\\n",
    "            .select(dfFinal[\"*\"],\\\n",
    "             dfActiveFN1[\"totalDaysActiveFN1\"],dfActiveFN1[\"totalWeeksActiveFN1\"],\\\n",
    "                    dfActiveFN1[\"totalFortnightsActiveFN1\"])\\\n",
    "            .na.fill(0)\n",
    "\n",
    "dfFinal = dfFinal.withColumn(\"ActiveDaysRatioFN1\",dfFinal[\"totalDaysActiveFN1\"]/14)\\\n",
    "            .withColumn(\"ActiveWeeksRatioFN1\",dfFinal[\"totalWeeksActiveFN1\"]/2)\\\n",
    "\n",
    "dfFinal.show(1)\n",
    "\n",
    "\n",
    "\n",
    "\n"
   ]
  },
  {
   "cell_type": "code",
   "execution_count": 57,
   "metadata": {},
   "outputs": [
    {
     "data": {
      "text/plain": [
       "[Row(userId='100010', gender=1, churn=0, tsMin=1539003534000, tsMax=1542823952000, daysMinToMax='44.21780092592593', weeksMinToMax='6.316828703703703', fortnightsMinToMax='3.1584143518518517', daysRegistered='55.64365740740741', weeksRegistered='7.949093915343916', latestLevel=0, totalSession=7, totalInteraction=381, totalLength=66940.89735, avgIntPerSession=54.42857142857143, avgSessionLength=9562.985335714286, avgSessionsPerWeek=10597.231694877368, totalSong=275, avgSongPerSession=39.285714285714285, avgSongPerWeek=43.53450329257165, totalHome=11, avgHomePerSession=1.5714285714285714, avgHomePerWeek=1.741380131702866, totalAddFriend=4, avgAddFriendPerSession=0.5714285714285714, avgAddFriendPerWeek=0.6332291388010423, totalAddToPlaylist=7, avgAddToPlaylistPerSession=1.0, avgAddToPlaylistPerWeek=1.1081509929018238, totalNextSong=275, avgNextSongPerSession=39.285714285714285, avgNextSongPerWeek=43.53450329257165, totalThumbsUp=17, avgThumbsUpPerSession=2.4285714285714284, avgThumbsUpPerWeek=2.6912238399044295, totalLogout=5, avgLogoutPerSession=0.7142857142857143, avgLogoutPerWeek=0.7915364235013028, totalDaysActive=7, totalWeeksActive=6, totalFortnightsActive=4, ActiveDaysRatio=0.15830728470026054, ActiveWeeksRatio=1.2664582776020845, totalSessionWk0=1, totalInteractionWk0=33, totalLengthWk0=5999.270759999999, avgIntPerSessionWk0=33.0, avgSessionLengthWk0=5999.270759999999, totalSessionWk1=1, totalInteractionWk1=112, totalLengthWk1=19634.6674, avgIntPerSessionWk1=112.0, avgSessionLengthWk1=19634.6674, totalSessionWk2=1, totalInteractionWk2=72, totalLengthWk2=13040.32954, avgIntPerSessionWk2=72.0, avgSessionLengthWk2=13040.32954, totalSessionWk3=0, totalInteractionWk3=0, totalLengthWk3=0.0, avgIntPerSessionWk3=0.0, avgSessionLengthWk3=0.0, totalDaysActiveFN0=2, totalWeeksActiveFN0=2, totalFortnightsActiveFN0=1, ActiveDaysRatioFN0=0.14285714285714285, ActiveWeeksRatioFN0=1.0, totalDaysActiveFN1=1, totalWeeksActiveFN1=1, totalFortnightsActiveFN1=1, ActiveDaysRatioFN1=0.07142857142857142, ActiveWeeksRatioFN1=0.5)]"
      ]
     },
     "execution_count": 57,
     "metadata": {},
     "output_type": "execute_result"
    }
   ],
   "source": [
    "#Convert \"gender\" and \"latestLevel\" into binary variables\n",
    "dfFinal = dfFinal.withColumn(\"gender\", when(dfFinal.gender == \"F\", 1).otherwise(0))\n",
    "dfFinal = dfFinal.withColumn(\"latestLevel\", when(dfFinal.latestLevel == \"paid\", 1).otherwise(0))\n",
    "\n",
    "dfFinal.take(1)\n"
   ]
  },
  {
   "cell_type": "code",
   "execution_count": 58,
   "metadata": {},
   "outputs": [
    {
     "data": {
      "text/plain": [
       "['userId',\n",
       " 'gender',\n",
       " 'churn',\n",
       " 'daysRegistered',\n",
       " 'weeksRegistered',\n",
       " 'latestLevel',\n",
       " 'totalSession',\n",
       " 'totalInteraction',\n",
       " 'totalLength',\n",
       " 'avgIntPerSession',\n",
       " 'avgSessionLength',\n",
       " 'avgSessionsPerWeek',\n",
       " 'totalSong',\n",
       " 'avgSongPerSession',\n",
       " 'avgSongPerWeek',\n",
       " 'totalHome',\n",
       " 'avgHomePerSession',\n",
       " 'avgHomePerWeek',\n",
       " 'totalAddFriend',\n",
       " 'avgAddFriendPerSession',\n",
       " 'avgAddFriendPerWeek',\n",
       " 'totalAddToPlaylist',\n",
       " 'avgAddToPlaylistPerSession',\n",
       " 'avgAddToPlaylistPerWeek',\n",
       " 'totalNextSong',\n",
       " 'avgNextSongPerSession',\n",
       " 'avgNextSongPerWeek',\n",
       " 'totalThumbsUp',\n",
       " 'avgThumbsUpPerSession',\n",
       " 'avgThumbsUpPerWeek',\n",
       " 'totalLogout',\n",
       " 'avgLogoutPerSession',\n",
       " 'avgLogoutPerWeek',\n",
       " 'totalDaysActive',\n",
       " 'totalWeeksActive',\n",
       " 'totalFortnightsActive',\n",
       " 'ActiveDaysRatio',\n",
       " 'ActiveWeeksRatio',\n",
       " 'totalSessionWk0',\n",
       " 'totalInteractionWk0',\n",
       " 'totalLengthWk0',\n",
       " 'avgIntPerSessionWk0',\n",
       " 'avgSessionLengthWk0',\n",
       " 'totalSessionWk1',\n",
       " 'totalInteractionWk1',\n",
       " 'totalLengthWk1',\n",
       " 'avgIntPerSessionWk1',\n",
       " 'avgSessionLengthWk1',\n",
       " 'totalSessionWk2',\n",
       " 'totalInteractionWk2',\n",
       " 'totalLengthWk2',\n",
       " 'avgIntPerSessionWk2',\n",
       " 'avgSessionLengthWk2',\n",
       " 'totalSessionWk3',\n",
       " 'totalInteractionWk3',\n",
       " 'totalLengthWk3',\n",
       " 'avgIntPerSessionWk3',\n",
       " 'avgSessionLengthWk3',\n",
       " 'totalDaysActiveFN0',\n",
       " 'totalWeeksActiveFN0',\n",
       " 'totalFortnightsActiveFN0',\n",
       " 'ActiveDaysRatioFN0',\n",
       " 'ActiveWeeksRatioFN0',\n",
       " 'totalDaysActiveFN1',\n",
       " 'totalWeeksActiveFN1',\n",
       " 'totalFortnightsActiveFN1',\n",
       " 'ActiveDaysRatioFN1',\n",
       " 'ActiveWeeksRatioFN1']"
      ]
     },
     "execution_count": 58,
     "metadata": {},
     "output_type": "execute_result"
    }
   ],
   "source": [
    "#Drop unnecessary columns\n",
    "dfFinal = dfFinal.drop(\"tsMin\",\"tsMax\",\"daysMinToMax\",\"weeksMinToMax\",\"fortnightsMinToMax\")\\\n",
    "                        .dropDuplicates()\n",
    "\n",
    "dfFinal.columns"
   ]
  },
  {
   "cell_type": "code",
   "execution_count": 59,
   "metadata": {},
   "outputs": [
    {
     "name": "stdout",
     "output_type": "stream",
     "text": [
      "225\n"
     ]
    }
   ],
   "source": [
    "#Check that there are still the correct number of userIds in the dataset (225)\n",
    "print(dfFinal.count())"
   ]
  },
  {
   "cell_type": "code",
   "execution_count": 60,
   "metadata": {},
   "outputs": [
    {
     "data": {
      "text/plain": [
       "DataFrame[userId: string, gender: int, churn: int, daysRegistered: string, weeksRegistered: string, latestLevel: int, totalSession: bigint, totalInteraction: bigint, totalLength: double, avgIntPerSession: double, avgSessionLength: double, avgSessionsPerWeek: double, totalSong: bigint, avgSongPerSession: double, avgSongPerWeek: double, totalHome: bigint, avgHomePerSession: double, avgHomePerWeek: double, totalAddFriend: bigint, avgAddFriendPerSession: double, avgAddFriendPerWeek: double, totalAddToPlaylist: bigint, avgAddToPlaylistPerSession: double, avgAddToPlaylistPerWeek: double, totalNextSong: bigint, avgNextSongPerSession: double, avgNextSongPerWeek: double, totalThumbsUp: bigint, avgThumbsUpPerSession: double, avgThumbsUpPerWeek: double, totalLogout: bigint, avgLogoutPerSession: double, avgLogoutPerWeek: double, totalDaysActive: bigint, totalWeeksActive: bigint, totalFortnightsActive: bigint, ActiveDaysRatio: double, ActiveWeeksRatio: double, totalSessionWk0: bigint, totalInteractionWk0: bigint, totalLengthWk0: double, avgIntPerSessionWk0: double, avgSessionLengthWk0: double, totalSessionWk1: bigint, totalInteractionWk1: bigint, totalLengthWk1: double, avgIntPerSessionWk1: double, avgSessionLengthWk1: double, totalSessionWk2: bigint, totalInteractionWk2: bigint, totalLengthWk2: double, avgIntPerSessionWk2: double, avgSessionLengthWk2: double, totalSessionWk3: bigint, totalInteractionWk3: bigint, totalLengthWk3: double, avgIntPerSessionWk3: double, avgSessionLengthWk3: double, totalDaysActiveFN0: bigint, totalWeeksActiveFN0: bigint, totalFortnightsActiveFN0: bigint, ActiveDaysRatioFN0: double, ActiveWeeksRatioFN0: double, totalDaysActiveFN1: bigint, totalWeeksActiveFN1: bigint, totalFortnightsActiveFN1: bigint, ActiveDaysRatioFN1: double, ActiveWeeksRatioFN1: double]"
      ]
     },
     "execution_count": 60,
     "metadata": {},
     "output_type": "execute_result"
    }
   ],
   "source": [
    "dfFinal.cache()"
   ]
  },
  {
   "cell_type": "code",
   "execution_count": 61,
   "metadata": {},
   "outputs": [
    {
     "data": {
      "text/plain": [
       "0    68\n",
       "dtype: int64"
      ]
     },
     "execution_count": 61,
     "metadata": {},
     "output_type": "execute_result"
    }
   ],
   "source": [
    "#Check for the number of missings in the dataset\n",
    "col_null={}\n",
    "for i in dfFinal.columns :\n",
    "    col_null[i]=dfFinal.where(col(i).isNull()).count()\n",
    "col_null=pd.Series(col_null)\n",
    "col_null.value_counts()\n"
   ]
  },
  {
   "cell_type": "code",
   "execution_count": 62,
   "metadata": {},
   "outputs": [
    {
     "name": "stdout",
     "output_type": "stream",
     "text": [
      "root\n",
      " |-- userId: string (nullable = true)\n",
      " |-- gender: integer (nullable = false)\n",
      " |-- churn: integer (nullable = true)\n",
      " |-- daysRegistered: string (nullable = true)\n",
      " |-- weeksRegistered: string (nullable = true)\n",
      " |-- latestLevel: integer (nullable = false)\n",
      " |-- totalSession: long (nullable = true)\n",
      " |-- totalInteraction: long (nullable = true)\n",
      " |-- totalLength: double (nullable = false)\n",
      " |-- avgIntPerSession: double (nullable = false)\n",
      " |-- avgSessionLength: double (nullable = false)\n",
      " |-- avgSessionsPerWeek: double (nullable = false)\n",
      " |-- totalSong: long (nullable = true)\n",
      " |-- avgSongPerSession: double (nullable = false)\n",
      " |-- avgSongPerWeek: double (nullable = false)\n",
      " |-- totalHome: long (nullable = true)\n",
      " |-- avgHomePerSession: double (nullable = false)\n",
      " |-- avgHomePerWeek: double (nullable = false)\n",
      " |-- totalAddFriend: long (nullable = true)\n",
      " |-- avgAddFriendPerSession: double (nullable = false)\n",
      " |-- avgAddFriendPerWeek: double (nullable = false)\n",
      " |-- totalAddToPlaylist: long (nullable = true)\n",
      " |-- avgAddToPlaylistPerSession: double (nullable = false)\n",
      " |-- avgAddToPlaylistPerWeek: double (nullable = false)\n",
      " |-- totalNextSong: long (nullable = true)\n",
      " |-- avgNextSongPerSession: double (nullable = false)\n",
      " |-- avgNextSongPerWeek: double (nullable = false)\n",
      " |-- totalThumbsUp: long (nullable = true)\n",
      " |-- avgThumbsUpPerSession: double (nullable = false)\n",
      " |-- avgThumbsUpPerWeek: double (nullable = false)\n",
      " |-- totalLogout: long (nullable = true)\n",
      " |-- avgLogoutPerSession: double (nullable = false)\n",
      " |-- avgLogoutPerWeek: double (nullable = false)\n",
      " |-- totalDaysActive: long (nullable = true)\n",
      " |-- totalWeeksActive: long (nullable = true)\n",
      " |-- totalFortnightsActive: long (nullable = true)\n",
      " |-- ActiveDaysRatio: double (nullable = false)\n",
      " |-- ActiveWeeksRatio: double (nullable = false)\n",
      " |-- totalSessionWk0: long (nullable = true)\n",
      " |-- totalInteractionWk0: long (nullable = true)\n",
      " |-- totalLengthWk0: double (nullable = false)\n",
      " |-- avgIntPerSessionWk0: double (nullable = false)\n",
      " |-- avgSessionLengthWk0: double (nullable = false)\n",
      " |-- totalSessionWk1: long (nullable = true)\n",
      " |-- totalInteractionWk1: long (nullable = true)\n",
      " |-- totalLengthWk1: double (nullable = false)\n",
      " |-- avgIntPerSessionWk1: double (nullable = false)\n",
      " |-- avgSessionLengthWk1: double (nullable = false)\n",
      " |-- totalSessionWk2: long (nullable = true)\n",
      " |-- totalInteractionWk2: long (nullable = true)\n",
      " |-- totalLengthWk2: double (nullable = false)\n",
      " |-- avgIntPerSessionWk2: double (nullable = false)\n",
      " |-- avgSessionLengthWk2: double (nullable = false)\n",
      " |-- totalSessionWk3: long (nullable = true)\n",
      " |-- totalInteractionWk3: long (nullable = true)\n",
      " |-- totalLengthWk3: double (nullable = false)\n",
      " |-- avgIntPerSessionWk3: double (nullable = false)\n",
      " |-- avgSessionLengthWk3: double (nullable = false)\n",
      " |-- totalDaysActiveFN0: long (nullable = true)\n",
      " |-- totalWeeksActiveFN0: long (nullable = true)\n",
      " |-- totalFortnightsActiveFN0: long (nullable = true)\n",
      " |-- ActiveDaysRatioFN0: double (nullable = false)\n",
      " |-- ActiveWeeksRatioFN0: double (nullable = false)\n",
      " |-- totalDaysActiveFN1: long (nullable = true)\n",
      " |-- totalWeeksActiveFN1: long (nullable = true)\n",
      " |-- totalFortnightsActiveFN1: long (nullable = true)\n",
      " |-- ActiveDaysRatioFN1: double (nullable = true)\n",
      " |-- ActiveWeeksRatioFN1: double (nullable = true)\n",
      "\n"
     ]
    }
   ],
   "source": [
    "dfFinal.printSchema()\n"
   ]
  },
  {
   "cell_type": "code",
   "execution_count": 63,
   "metadata": {},
   "outputs": [
    {
     "data": {
      "text/plain": [
       "'/home/workspace'"
      ]
     },
     "execution_count": 63,
     "metadata": {},
     "output_type": "execute_result"
    }
   ],
   "source": [
    "#Find current direct\n",
    "current_path = os.getcwd()\n",
    "current_path"
   ]
  },
  {
   "cell_type": "code",
   "execution_count": 64,
   "metadata": {},
   "outputs": [
    {
     "data": {
      "text/plain": [
       "'/home/workspace/dfFinal.csv'"
      ]
     },
     "execution_count": 64,
     "metadata": {},
     "output_type": "execute_result"
    }
   ],
   "source": []
  },
  {
   "cell_type": "code",
   "execution_count": 65,
   "metadata": {},
   "outputs": [],
   "source": [
    "#Save dataset as csv\n",
    "\n",
    "dfFinal.toPandas().to_csv( current_path+'/dfFinal.csv', index = False)"
   ]
  },
  {
   "cell_type": "code",
   "execution_count": null,
   "metadata": {},
   "outputs": [],
   "source": []
  },
  {
   "cell_type": "markdown",
   "metadata": {},
   "source": [
    "## Please progress to Sparkify-model build.ipynb for model development"
   ]
  },
  {
   "cell_type": "code",
   "execution_count": null,
   "metadata": {},
   "outputs": [],
   "source": []
  },
  {
   "cell_type": "code",
   "execution_count": null,
   "metadata": {},
   "outputs": [],
   "source": []
  }
 ],
 "metadata": {
  "kernelspec": {
   "display_name": "Python 3",
   "language": "python",
   "name": "python3"
  },
  "language_info": {
   "codemirror_mode": {
    "name": "ipython",
    "version": 3
   },
   "file_extension": ".py",
   "mimetype": "text/x-python",
   "name": "python",
   "nbconvert_exporter": "python",
   "pygments_lexer": "ipython3",
   "version": "3.6.3"
  }
 },
 "nbformat": 4,
 "nbformat_minor": 2
}
